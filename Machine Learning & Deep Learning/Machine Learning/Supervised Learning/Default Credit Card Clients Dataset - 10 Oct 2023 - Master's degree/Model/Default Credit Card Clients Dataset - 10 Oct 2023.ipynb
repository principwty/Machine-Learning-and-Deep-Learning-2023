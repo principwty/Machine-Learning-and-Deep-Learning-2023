{
 "cells": [
  {
   "cell_type": "code",
   "execution_count": null,
   "id": "339795f7",
   "metadata": {},
   "outputs": [],
   "source": []
  },
  {
   "cell_type": "code",
   "execution_count": null,
   "id": "9d50e0e4",
   "metadata": {},
   "outputs": [],
   "source": []
  },
  {
   "cell_type": "code",
   "execution_count": 22,
   "id": "16ddbce4",
   "metadata": {},
   "outputs": [],
   "source": [
    "df_copy.to_csv('Final_df_1.csv')"
   ]
  },
  {
   "cell_type": "code",
   "execution_count": 23,
   "id": "efd41509",
   "metadata": {},
   "outputs": [],
   "source": [
    "df_fr = pd.read_csv('./Final_df_1.csv')"
   ]
  },
  {
   "cell_type": "code",
   "execution_count": 24,
   "id": "33b8ee22",
   "metadata": {},
   "outputs": [],
   "source": [
    "df_fr.drop(['Unnamed: 0'],axis = 1, inplace = True)"
   ]
  },
  {
   "cell_type": "code",
   "execution_count": 25,
   "id": "7d486b2a",
   "metadata": {},
   "outputs": [
    {
     "data": {
      "text/html": [
       "<div>\n",
       "<style scoped>\n",
       "    .dataframe tbody tr th:only-of-type {\n",
       "        vertical-align: middle;\n",
       "    }\n",
       "\n",
       "    .dataframe tbody tr th {\n",
       "        vertical-align: top;\n",
       "    }\n",
       "\n",
       "    .dataframe thead th {\n",
       "        text-align: right;\n",
       "    }\n",
       "</style>\n",
       "<table border=\"1\" class=\"dataframe\">\n",
       "  <thead>\n",
       "    <tr style=\"text-align: right;\">\n",
       "      <th></th>\n",
       "      <th>CREDIT_LIMIT</th>\n",
       "      <th>AGE</th>\n",
       "      <th>PAY_SEP</th>\n",
       "      <th>PAY_AUG</th>\n",
       "      <th>PAY_JUL</th>\n",
       "      <th>PAY_JUN</th>\n",
       "      <th>PAY_MAY</th>\n",
       "      <th>PAY_APR</th>\n",
       "      <th>BILL_AMT_SEP</th>\n",
       "      <th>BILL_AMT_AUG</th>\n",
       "      <th>...</th>\n",
       "      <th>PAY_AMT_JUN</th>\n",
       "      <th>PAY_AMT_MAY</th>\n",
       "      <th>PAY_AMT_APR</th>\n",
       "      <th>TARGET</th>\n",
       "      <th>SEX_MALE</th>\n",
       "      <th>EDUCATION_graduate</th>\n",
       "      <th>EDUCATION_high sch</th>\n",
       "      <th>EDUCATION_university</th>\n",
       "      <th>MARRIAGE_married</th>\n",
       "      <th>MARRIAGE_single</th>\n",
       "    </tr>\n",
       "  </thead>\n",
       "  <tbody>\n",
       "    <tr>\n",
       "      <th>0</th>\n",
       "      <td>20000.0</td>\n",
       "      <td>24</td>\n",
       "      <td>2</td>\n",
       "      <td>2</td>\n",
       "      <td>0</td>\n",
       "      <td>0</td>\n",
       "      <td>0</td>\n",
       "      <td>0</td>\n",
       "      <td>3913.0</td>\n",
       "      <td>3102.0</td>\n",
       "      <td>...</td>\n",
       "      <td>0.0</td>\n",
       "      <td>0.0</td>\n",
       "      <td>0.0</td>\n",
       "      <td>1</td>\n",
       "      <td>False</td>\n",
       "      <td>False</td>\n",
       "      <td>False</td>\n",
       "      <td>True</td>\n",
       "      <td>True</td>\n",
       "      <td>False</td>\n",
       "    </tr>\n",
       "    <tr>\n",
       "      <th>1</th>\n",
       "      <td>120000.0</td>\n",
       "      <td>26</td>\n",
       "      <td>0</td>\n",
       "      <td>2</td>\n",
       "      <td>0</td>\n",
       "      <td>0</td>\n",
       "      <td>0</td>\n",
       "      <td>2</td>\n",
       "      <td>2682.0</td>\n",
       "      <td>1725.0</td>\n",
       "      <td>...</td>\n",
       "      <td>1000.0</td>\n",
       "      <td>0.0</td>\n",
       "      <td>2000.0</td>\n",
       "      <td>1</td>\n",
       "      <td>False</td>\n",
       "      <td>False</td>\n",
       "      <td>False</td>\n",
       "      <td>True</td>\n",
       "      <td>False</td>\n",
       "      <td>True</td>\n",
       "    </tr>\n",
       "    <tr>\n",
       "      <th>2</th>\n",
       "      <td>90000.0</td>\n",
       "      <td>34</td>\n",
       "      <td>0</td>\n",
       "      <td>0</td>\n",
       "      <td>0</td>\n",
       "      <td>0</td>\n",
       "      <td>0</td>\n",
       "      <td>0</td>\n",
       "      <td>29239.0</td>\n",
       "      <td>14027.0</td>\n",
       "      <td>...</td>\n",
       "      <td>1000.0</td>\n",
       "      <td>1000.0</td>\n",
       "      <td>5000.0</td>\n",
       "      <td>0</td>\n",
       "      <td>False</td>\n",
       "      <td>False</td>\n",
       "      <td>False</td>\n",
       "      <td>True</td>\n",
       "      <td>False</td>\n",
       "      <td>True</td>\n",
       "    </tr>\n",
       "    <tr>\n",
       "      <th>3</th>\n",
       "      <td>50000.0</td>\n",
       "      <td>37</td>\n",
       "      <td>0</td>\n",
       "      <td>0</td>\n",
       "      <td>0</td>\n",
       "      <td>0</td>\n",
       "      <td>0</td>\n",
       "      <td>0</td>\n",
       "      <td>46990.0</td>\n",
       "      <td>48233.0</td>\n",
       "      <td>...</td>\n",
       "      <td>1100.0</td>\n",
       "      <td>1069.0</td>\n",
       "      <td>1000.0</td>\n",
       "      <td>0</td>\n",
       "      <td>False</td>\n",
       "      <td>False</td>\n",
       "      <td>False</td>\n",
       "      <td>True</td>\n",
       "      <td>True</td>\n",
       "      <td>False</td>\n",
       "    </tr>\n",
       "    <tr>\n",
       "      <th>4</th>\n",
       "      <td>50000.0</td>\n",
       "      <td>57</td>\n",
       "      <td>0</td>\n",
       "      <td>0</td>\n",
       "      <td>0</td>\n",
       "      <td>0</td>\n",
       "      <td>0</td>\n",
       "      <td>0</td>\n",
       "      <td>8617.0</td>\n",
       "      <td>5670.0</td>\n",
       "      <td>...</td>\n",
       "      <td>9000.0</td>\n",
       "      <td>689.0</td>\n",
       "      <td>679.0</td>\n",
       "      <td>0</td>\n",
       "      <td>True</td>\n",
       "      <td>False</td>\n",
       "      <td>False</td>\n",
       "      <td>True</td>\n",
       "      <td>True</td>\n",
       "      <td>False</td>\n",
       "    </tr>\n",
       "  </tbody>\n",
       "</table>\n",
       "<p>5 rows × 27 columns</p>\n",
       "</div>"
      ],
      "text/plain": [
       "   CREDIT_LIMIT  AGE  PAY_SEP  PAY_AUG  PAY_JUL  PAY_JUN  PAY_MAY  PAY_APR  \\\n",
       "0       20000.0   24        2        2        0        0        0        0   \n",
       "1      120000.0   26        0        2        0        0        0        2   \n",
       "2       90000.0   34        0        0        0        0        0        0   \n",
       "3       50000.0   37        0        0        0        0        0        0   \n",
       "4       50000.0   57        0        0        0        0        0        0   \n",
       "\n",
       "   BILL_AMT_SEP  BILL_AMT_AUG  ...  PAY_AMT_JUN  PAY_AMT_MAY  PAY_AMT_APR  \\\n",
       "0        3913.0        3102.0  ...          0.0          0.0          0.0   \n",
       "1        2682.0        1725.0  ...       1000.0          0.0       2000.0   \n",
       "2       29239.0       14027.0  ...       1000.0       1000.0       5000.0   \n",
       "3       46990.0       48233.0  ...       1100.0       1069.0       1000.0   \n",
       "4        8617.0        5670.0  ...       9000.0        689.0        679.0   \n",
       "\n",
       "   TARGET  SEX_MALE  EDUCATION_graduate  EDUCATION_high sch  \\\n",
       "0       1     False               False               False   \n",
       "1       1     False               False               False   \n",
       "2       0     False               False               False   \n",
       "3       0     False               False               False   \n",
       "4       0      True               False               False   \n",
       "\n",
       "   EDUCATION_university  MARRIAGE_married  MARRIAGE_single  \n",
       "0                  True              True            False  \n",
       "1                  True             False             True  \n",
       "2                  True             False             True  \n",
       "3                  True              True            False  \n",
       "4                  True              True            False  \n",
       "\n",
       "[5 rows x 27 columns]"
      ]
     },
     "execution_count": 25,
     "metadata": {},
     "output_type": "execute_result"
    }
   ],
   "source": [
    "df_fr.head()"
   ]
  },
  {
   "cell_type": "code",
   "execution_count": 26,
   "id": "c632445d",
   "metadata": {},
   "outputs": [
    {
     "name": "stdout",
     "output_type": "stream",
     "text": [
      "<class 'pandas.core.frame.DataFrame'>\n",
      "RangeIndex: 30000 entries, 0 to 29999\n",
      "Data columns (total 27 columns):\n",
      " #   Column                Non-Null Count  Dtype  \n",
      "---  ------                --------------  -----  \n",
      " 0   CREDIT_LIMIT          30000 non-null  float64\n",
      " 1   AGE                   30000 non-null  int64  \n",
      " 2   PAY_SEP               30000 non-null  int64  \n",
      " 3   PAY_AUG               30000 non-null  int64  \n",
      " 4   PAY_JUL               30000 non-null  int64  \n",
      " 5   PAY_JUN               30000 non-null  int64  \n",
      " 6   PAY_MAY               30000 non-null  int64  \n",
      " 7   PAY_APR               30000 non-null  int64  \n",
      " 8   BILL_AMT_SEP          30000 non-null  float64\n",
      " 9   BILL_AMT_AUG          30000 non-null  float64\n",
      " 10  BILL_AMT_JUL          30000 non-null  float64\n",
      " 11  BILL_AMT_JUN          30000 non-null  float64\n",
      " 12  BILL_AMT_MAY          30000 non-null  float64\n",
      " 13  BILL_AMT_APR          30000 non-null  float64\n",
      " 14  PAY_AMT_SEP           30000 non-null  float64\n",
      " 15  PAY_AMT_AUG           30000 non-null  float64\n",
      " 16  PAY_AMT_JUL           30000 non-null  float64\n",
      " 17  PAY_AMT_JUN           30000 non-null  float64\n",
      " 18  PAY_AMT_MAY           30000 non-null  float64\n",
      " 19  PAY_AMT_APR           30000 non-null  float64\n",
      " 20  TARGET                30000 non-null  int64  \n",
      " 21  SEX_MALE              30000 non-null  bool   \n",
      " 22  EDUCATION_graduate    30000 non-null  bool   \n",
      " 23  EDUCATION_high sch    30000 non-null  bool   \n",
      " 24  EDUCATION_university  30000 non-null  bool   \n",
      " 25  MARRIAGE_married      30000 non-null  bool   \n",
      " 26  MARRIAGE_single       30000 non-null  bool   \n",
      "dtypes: bool(6), float64(13), int64(8)\n",
      "memory usage: 5.0 MB\n"
     ]
    }
   ],
   "source": [
    "df_fr.info()"
   ]
  },
  {
   "cell_type": "code",
   "execution_count": 261,
   "id": "0b4e8498",
   "metadata": {},
   "outputs": [
    {
     "data": {
      "text/html": [
       "<div>\n",
       "<style scoped>\n",
       "    .dataframe tbody tr th:only-of-type {\n",
       "        vertical-align: middle;\n",
       "    }\n",
       "\n",
       "    .dataframe tbody tr th {\n",
       "        vertical-align: top;\n",
       "    }\n",
       "\n",
       "    .dataframe thead th {\n",
       "        text-align: right;\n",
       "    }\n",
       "</style>\n",
       "<table border=\"1\" class=\"dataframe\">\n",
       "  <thead>\n",
       "    <tr style=\"text-align: right;\">\n",
       "      <th></th>\n",
       "      <th>CREDIT_LIMIT</th>\n",
       "      <th>AGE</th>\n",
       "      <th>PAY_SEP</th>\n",
       "      <th>PAY_AUG</th>\n",
       "      <th>PAY_JUL</th>\n",
       "      <th>PAY_JUN</th>\n",
       "      <th>PAY_MAY</th>\n",
       "      <th>PAY_APR</th>\n",
       "      <th>BILL_AMT_SEP</th>\n",
       "      <th>BILL_AMT_AUG</th>\n",
       "      <th>...</th>\n",
       "      <th>PAY_AMT_JUN</th>\n",
       "      <th>PAY_AMT_MAY</th>\n",
       "      <th>PAY_AMT_APR</th>\n",
       "      <th>TARGET</th>\n",
       "      <th>SEX_MALE</th>\n",
       "      <th>EDUCATION_graduate</th>\n",
       "      <th>EDUCATION_high sch</th>\n",
       "      <th>EDUCATION_university</th>\n",
       "      <th>MARRIAGE_married</th>\n",
       "      <th>MARRIAGE_single</th>\n",
       "    </tr>\n",
       "  </thead>\n",
       "  <tbody>\n",
       "    <tr>\n",
       "      <th>0</th>\n",
       "      <td>20000.0</td>\n",
       "      <td>24</td>\n",
       "      <td>2</td>\n",
       "      <td>2</td>\n",
       "      <td>0</td>\n",
       "      <td>0</td>\n",
       "      <td>0</td>\n",
       "      <td>0</td>\n",
       "      <td>3913.0</td>\n",
       "      <td>3102.0</td>\n",
       "      <td>...</td>\n",
       "      <td>0.0</td>\n",
       "      <td>0.0</td>\n",
       "      <td>0.0</td>\n",
       "      <td>1</td>\n",
       "      <td>False</td>\n",
       "      <td>False</td>\n",
       "      <td>False</td>\n",
       "      <td>True</td>\n",
       "      <td>True</td>\n",
       "      <td>False</td>\n",
       "    </tr>\n",
       "    <tr>\n",
       "      <th>1</th>\n",
       "      <td>120000.0</td>\n",
       "      <td>26</td>\n",
       "      <td>0</td>\n",
       "      <td>2</td>\n",
       "      <td>0</td>\n",
       "      <td>0</td>\n",
       "      <td>0</td>\n",
       "      <td>2</td>\n",
       "      <td>2682.0</td>\n",
       "      <td>1725.0</td>\n",
       "      <td>...</td>\n",
       "      <td>1000.0</td>\n",
       "      <td>0.0</td>\n",
       "      <td>2000.0</td>\n",
       "      <td>1</td>\n",
       "      <td>False</td>\n",
       "      <td>False</td>\n",
       "      <td>False</td>\n",
       "      <td>True</td>\n",
       "      <td>False</td>\n",
       "      <td>True</td>\n",
       "    </tr>\n",
       "    <tr>\n",
       "      <th>2</th>\n",
       "      <td>90000.0</td>\n",
       "      <td>34</td>\n",
       "      <td>0</td>\n",
       "      <td>0</td>\n",
       "      <td>0</td>\n",
       "      <td>0</td>\n",
       "      <td>0</td>\n",
       "      <td>0</td>\n",
       "      <td>29239.0</td>\n",
       "      <td>14027.0</td>\n",
       "      <td>...</td>\n",
       "      <td>1000.0</td>\n",
       "      <td>1000.0</td>\n",
       "      <td>5000.0</td>\n",
       "      <td>0</td>\n",
       "      <td>False</td>\n",
       "      <td>False</td>\n",
       "      <td>False</td>\n",
       "      <td>True</td>\n",
       "      <td>False</td>\n",
       "      <td>True</td>\n",
       "    </tr>\n",
       "    <tr>\n",
       "      <th>3</th>\n",
       "      <td>50000.0</td>\n",
       "      <td>37</td>\n",
       "      <td>0</td>\n",
       "      <td>0</td>\n",
       "      <td>0</td>\n",
       "      <td>0</td>\n",
       "      <td>0</td>\n",
       "      <td>0</td>\n",
       "      <td>46990.0</td>\n",
       "      <td>48233.0</td>\n",
       "      <td>...</td>\n",
       "      <td>1100.0</td>\n",
       "      <td>1069.0</td>\n",
       "      <td>1000.0</td>\n",
       "      <td>0</td>\n",
       "      <td>False</td>\n",
       "      <td>False</td>\n",
       "      <td>False</td>\n",
       "      <td>True</td>\n",
       "      <td>True</td>\n",
       "      <td>False</td>\n",
       "    </tr>\n",
       "    <tr>\n",
       "      <th>4</th>\n",
       "      <td>50000.0</td>\n",
       "      <td>57</td>\n",
       "      <td>0</td>\n",
       "      <td>0</td>\n",
       "      <td>0</td>\n",
       "      <td>0</td>\n",
       "      <td>0</td>\n",
       "      <td>0</td>\n",
       "      <td>8617.0</td>\n",
       "      <td>5670.0</td>\n",
       "      <td>...</td>\n",
       "      <td>9000.0</td>\n",
       "      <td>689.0</td>\n",
       "      <td>679.0</td>\n",
       "      <td>0</td>\n",
       "      <td>True</td>\n",
       "      <td>False</td>\n",
       "      <td>False</td>\n",
       "      <td>True</td>\n",
       "      <td>True</td>\n",
       "      <td>False</td>\n",
       "    </tr>\n",
       "    <tr>\n",
       "      <th>...</th>\n",
       "      <td>...</td>\n",
       "      <td>...</td>\n",
       "      <td>...</td>\n",
       "      <td>...</td>\n",
       "      <td>...</td>\n",
       "      <td>...</td>\n",
       "      <td>...</td>\n",
       "      <td>...</td>\n",
       "      <td>...</td>\n",
       "      <td>...</td>\n",
       "      <td>...</td>\n",
       "      <td>...</td>\n",
       "      <td>...</td>\n",
       "      <td>...</td>\n",
       "      <td>...</td>\n",
       "      <td>...</td>\n",
       "      <td>...</td>\n",
       "      <td>...</td>\n",
       "      <td>...</td>\n",
       "      <td>...</td>\n",
       "      <td>...</td>\n",
       "    </tr>\n",
       "    <tr>\n",
       "      <th>29995</th>\n",
       "      <td>220000.0</td>\n",
       "      <td>39</td>\n",
       "      <td>0</td>\n",
       "      <td>0</td>\n",
       "      <td>0</td>\n",
       "      <td>0</td>\n",
       "      <td>0</td>\n",
       "      <td>0</td>\n",
       "      <td>188948.0</td>\n",
       "      <td>192815.0</td>\n",
       "      <td>...</td>\n",
       "      <td>3047.0</td>\n",
       "      <td>5000.0</td>\n",
       "      <td>1000.0</td>\n",
       "      <td>0</td>\n",
       "      <td>True</td>\n",
       "      <td>False</td>\n",
       "      <td>True</td>\n",
       "      <td>False</td>\n",
       "      <td>True</td>\n",
       "      <td>False</td>\n",
       "    </tr>\n",
       "    <tr>\n",
       "      <th>29996</th>\n",
       "      <td>150000.0</td>\n",
       "      <td>43</td>\n",
       "      <td>0</td>\n",
       "      <td>0</td>\n",
       "      <td>0</td>\n",
       "      <td>0</td>\n",
       "      <td>0</td>\n",
       "      <td>0</td>\n",
       "      <td>1683.0</td>\n",
       "      <td>1828.0</td>\n",
       "      <td>...</td>\n",
       "      <td>129.0</td>\n",
       "      <td>0.0</td>\n",
       "      <td>0.0</td>\n",
       "      <td>0</td>\n",
       "      <td>True</td>\n",
       "      <td>False</td>\n",
       "      <td>True</td>\n",
       "      <td>False</td>\n",
       "      <td>False</td>\n",
       "      <td>True</td>\n",
       "    </tr>\n",
       "    <tr>\n",
       "      <th>29997</th>\n",
       "      <td>30000.0</td>\n",
       "      <td>37</td>\n",
       "      <td>4</td>\n",
       "      <td>3</td>\n",
       "      <td>2</td>\n",
       "      <td>0</td>\n",
       "      <td>0</td>\n",
       "      <td>0</td>\n",
       "      <td>3565.0</td>\n",
       "      <td>3356.0</td>\n",
       "      <td>...</td>\n",
       "      <td>4200.0</td>\n",
       "      <td>2000.0</td>\n",
       "      <td>3100.0</td>\n",
       "      <td>1</td>\n",
       "      <td>True</td>\n",
       "      <td>False</td>\n",
       "      <td>False</td>\n",
       "      <td>True</td>\n",
       "      <td>False</td>\n",
       "      <td>True</td>\n",
       "    </tr>\n",
       "    <tr>\n",
       "      <th>29998</th>\n",
       "      <td>80000.0</td>\n",
       "      <td>41</td>\n",
       "      <td>1</td>\n",
       "      <td>0</td>\n",
       "      <td>0</td>\n",
       "      <td>0</td>\n",
       "      <td>0</td>\n",
       "      <td>0</td>\n",
       "      <td>-1645.0</td>\n",
       "      <td>78379.0</td>\n",
       "      <td>...</td>\n",
       "      <td>1926.0</td>\n",
       "      <td>52964.0</td>\n",
       "      <td>1804.0</td>\n",
       "      <td>1</td>\n",
       "      <td>True</td>\n",
       "      <td>False</td>\n",
       "      <td>True</td>\n",
       "      <td>False</td>\n",
       "      <td>True</td>\n",
       "      <td>False</td>\n",
       "    </tr>\n",
       "    <tr>\n",
       "      <th>29999</th>\n",
       "      <td>50000.0</td>\n",
       "      <td>46</td>\n",
       "      <td>0</td>\n",
       "      <td>0</td>\n",
       "      <td>0</td>\n",
       "      <td>0</td>\n",
       "      <td>0</td>\n",
       "      <td>0</td>\n",
       "      <td>47929.0</td>\n",
       "      <td>48905.0</td>\n",
       "      <td>...</td>\n",
       "      <td>1000.0</td>\n",
       "      <td>1000.0</td>\n",
       "      <td>1000.0</td>\n",
       "      <td>1</td>\n",
       "      <td>True</td>\n",
       "      <td>False</td>\n",
       "      <td>False</td>\n",
       "      <td>True</td>\n",
       "      <td>True</td>\n",
       "      <td>False</td>\n",
       "    </tr>\n",
       "  </tbody>\n",
       "</table>\n",
       "<p>30000 rows × 27 columns</p>\n",
       "</div>"
      ],
      "text/plain": [
       "       CREDIT_LIMIT  AGE  PAY_SEP  PAY_AUG  PAY_JUL  PAY_JUN  PAY_MAY  \\\n",
       "0           20000.0   24        2        2        0        0        0   \n",
       "1          120000.0   26        0        2        0        0        0   \n",
       "2           90000.0   34        0        0        0        0        0   \n",
       "3           50000.0   37        0        0        0        0        0   \n",
       "4           50000.0   57        0        0        0        0        0   \n",
       "...             ...  ...      ...      ...      ...      ...      ...   \n",
       "29995      220000.0   39        0        0        0        0        0   \n",
       "29996      150000.0   43        0        0        0        0        0   \n",
       "29997       30000.0   37        4        3        2        0        0   \n",
       "29998       80000.0   41        1        0        0        0        0   \n",
       "29999       50000.0   46        0        0        0        0        0   \n",
       "\n",
       "       PAY_APR  BILL_AMT_SEP  BILL_AMT_AUG  ...  PAY_AMT_JUN  PAY_AMT_MAY  \\\n",
       "0            0        3913.0        3102.0  ...          0.0          0.0   \n",
       "1            2        2682.0        1725.0  ...       1000.0          0.0   \n",
       "2            0       29239.0       14027.0  ...       1000.0       1000.0   \n",
       "3            0       46990.0       48233.0  ...       1100.0       1069.0   \n",
       "4            0        8617.0        5670.0  ...       9000.0        689.0   \n",
       "...        ...           ...           ...  ...          ...          ...   \n",
       "29995        0      188948.0      192815.0  ...       3047.0       5000.0   \n",
       "29996        0        1683.0        1828.0  ...        129.0          0.0   \n",
       "29997        0        3565.0        3356.0  ...       4200.0       2000.0   \n",
       "29998        0       -1645.0       78379.0  ...       1926.0      52964.0   \n",
       "29999        0       47929.0       48905.0  ...       1000.0       1000.0   \n",
       "\n",
       "       PAY_AMT_APR  TARGET  SEX_MALE  EDUCATION_graduate  EDUCATION_high sch  \\\n",
       "0              0.0       1     False               False               False   \n",
       "1           2000.0       1     False               False               False   \n",
       "2           5000.0       0     False               False               False   \n",
       "3           1000.0       0     False               False               False   \n",
       "4            679.0       0      True               False               False   \n",
       "...            ...     ...       ...                 ...                 ...   \n",
       "29995       1000.0       0      True               False                True   \n",
       "29996          0.0       0      True               False                True   \n",
       "29997       3100.0       1      True               False               False   \n",
       "29998       1804.0       1      True               False                True   \n",
       "29999       1000.0       1      True               False               False   \n",
       "\n",
       "       EDUCATION_university  MARRIAGE_married  MARRIAGE_single  \n",
       "0                      True              True            False  \n",
       "1                      True             False             True  \n",
       "2                      True             False             True  \n",
       "3                      True              True            False  \n",
       "4                      True              True            False  \n",
       "...                     ...               ...              ...  \n",
       "29995                 False              True            False  \n",
       "29996                 False             False             True  \n",
       "29997                  True             False             True  \n",
       "29998                 False              True            False  \n",
       "29999                  True              True            False  \n",
       "\n",
       "[30000 rows x 27 columns]"
      ]
     },
     "execution_count": 261,
     "metadata": {},
     "output_type": "execute_result"
    }
   ],
   "source": [
    "df_fr"
   ]
  },
  {
   "cell_type": "code",
   "execution_count": null,
   "id": "a93d8d1e",
   "metadata": {},
   "outputs": [],
   "source": []
  },
  {
   "cell_type": "code",
   "execution_count": null,
   "id": "5eb8c035",
   "metadata": {},
   "outputs": [],
   "source": []
  },
  {
   "cell_type": "code",
   "execution_count": null,
   "id": "76ac43bd",
   "metadata": {},
   "outputs": [],
   "source": []
  },
  {
   "cell_type": "code",
   "execution_count": null,
   "id": "67023fcd",
   "metadata": {},
   "outputs": [],
   "source": []
  },
  {
   "cell_type": "code",
   "execution_count": null,
   "id": "8352a479",
   "metadata": {},
   "outputs": [],
   "source": []
  },
  {
   "cell_type": "code",
   "execution_count": 27,
   "id": "12b0b8d0",
   "metadata": {},
   "outputs": [],
   "source": [
    "df_log_reg = df_fr.copy()"
   ]
  },
  {
   "cell_type": "code",
   "execution_count": 28,
   "id": "b1709000",
   "metadata": {},
   "outputs": [],
   "source": [
    "X = df_log_reg.drop(['TARGET'], axis = 1)\n",
    "y = df_log_reg['TARGET']"
   ]
  },
  {
   "cell_type": "code",
   "execution_count": 29,
   "id": "e901ea64",
   "metadata": {},
   "outputs": [
    {
     "data": {
      "text/plain": [
       "26"
      ]
     },
     "execution_count": 29,
     "metadata": {},
     "output_type": "execute_result"
    }
   ],
   "source": [
    "len(X.columns)"
   ]
  },
  {
   "cell_type": "code",
   "execution_count": 34,
   "id": "9d5ff4a3",
   "metadata": {},
   "outputs": [
    {
     "data": {
      "text/plain": [
       "0.8096666666666666"
      ]
     },
     "execution_count": 34,
     "metadata": {},
     "output_type": "execute_result"
    }
   ],
   "source": [
    "X_train, X_test, y_train, y_test = train_test_split(X, y, test_size=0.20, random_state=42)\n",
    "#create the classifier\n",
    "classifier = DecisionTreeClassifier(max_depth=10, random_state=14) \n",
    "# training the classifier\n",
    "classifier.fit(X_train, y_train)\n",
    "# do our predictions on the test\n",
    "predictions = classifier.predict(X_test)\n",
    "# see how good we did on the test\n",
    "accuracy_score(y_true = y_test, y_pred = predictions)"
   ]
  },
  {
   "cell_type": "code",
   "execution_count": 35,
   "id": "950868f4",
   "metadata": {},
   "outputs": [
    {
     "data": {
      "text/plain": [
       "0.7255"
      ]
     },
     "execution_count": 35,
     "metadata": {},
     "output_type": "execute_result"
    }
   ],
   "source": [
    "classifier = DecisionTreeClassifier(max_depth=100, random_state=14) \n",
    "classifier.fit(X_train, y_train)\n",
    "predictions = classifier.predict(X_test)\n",
    "accuracy_score(y_true = y_test, y_pred = predictions)"
   ]
  },
  {
   "cell_type": "code",
   "execution_count": 36,
   "id": "b4c94859",
   "metadata": {},
   "outputs": [
    {
     "name": "stdout",
     "output_type": "stream",
     "text": [
      "DecisionTreeClassifier(criterion='entropy', max_depth=3, max_leaf_nodes=10)\n",
      "0.8203750000000001\n"
     ]
    }
   ],
   "source": [
    "# define the parameters grid\n",
    "param_grid = {'max_depth': np.arange(3, 10),\n",
    "             'criterion' : ['gini','entropy'],\n",
    "             'max_leaf_nodes': [5,10,20,100],\n",
    "             'min_samples_split': [2, 5, 10, 20]}\n",
    "\n",
    "# create the grid\n",
    "grid_tree = GridSearchCV(DecisionTreeClassifier(), param_grid, cv = 5, scoring= 'accuracy')\n",
    "# the cv option will be clear in a few cells\n",
    "\n",
    "#training\n",
    "grid_tree.fit(X_train, y_train)\n",
    "#let's see the best estimator\n",
    "print(grid_tree.best_estimator_)\n",
    "#with its score\n",
    "print(np.abs(grid_tree.best_score_))"
   ]
  },
  {
   "cell_type": "code",
   "execution_count": 44,
   "id": "101e728f",
   "metadata": {},
   "outputs": [
    {
     "data": {
      "text/plain": [
       "0.8216666666666667"
      ]
     },
     "execution_count": 44,
     "metadata": {},
     "output_type": "execute_result"
    }
   ],
   "source": [
    "classifier = DecisionTreeClassifier(criterion='entropy', max_depth=3, max_leaf_nodes=10,\n",
    "            )\n",
    "classifier.fit(X_train, y_train)\n",
    "predictions = classifier.predict(X_test)\n",
    "accuracy_score(y_true = y_test, y_pred = predictions)"
   ]
  },
  {
   "cell_type": "code",
   "execution_count": 46,
   "id": "a6739854",
   "metadata": {},
   "outputs": [],
   "source": [
    "features = X_train.columns"
   ]
  },
  {
   "cell_type": "code",
   "execution_count": 47,
   "id": "5832266e",
   "metadata": {},
   "outputs": [
    {
     "data": {
      "text/html": [
       "<div>\n",
       "<style scoped>\n",
       "    .dataframe tbody tr th:only-of-type {\n",
       "        vertical-align: middle;\n",
       "    }\n",
       "\n",
       "    .dataframe tbody tr th {\n",
       "        vertical-align: top;\n",
       "    }\n",
       "\n",
       "    .dataframe thead th {\n",
       "        text-align: right;\n",
       "    }\n",
       "</style>\n",
       "<table border=\"1\" class=\"dataframe\">\n",
       "  <thead>\n",
       "    <tr style=\"text-align: right;\">\n",
       "      <th></th>\n",
       "      <th>feat</th>\n",
       "      <th>score</th>\n",
       "    </tr>\n",
       "  </thead>\n",
       "  <tbody>\n",
       "    <tr>\n",
       "      <th>2</th>\n",
       "      <td>PAY_SEP</td>\n",
       "      <td>0.720313</td>\n",
       "    </tr>\n",
       "    <tr>\n",
       "      <th>3</th>\n",
       "      <td>PAY_AUG</td>\n",
       "      <td>0.174710</td>\n",
       "    </tr>\n",
       "    <tr>\n",
       "      <th>16</th>\n",
       "      <td>PAY_AMT_JUL</td>\n",
       "      <td>0.080407</td>\n",
       "    </tr>\n",
       "    <tr>\n",
       "      <th>6</th>\n",
       "      <td>PAY_MAY</td>\n",
       "      <td>0.009282</td>\n",
       "    </tr>\n",
       "    <tr>\n",
       "      <th>8</th>\n",
       "      <td>BILL_AMT_SEP</td>\n",
       "      <td>0.007656</td>\n",
       "    </tr>\n",
       "    <tr>\n",
       "      <th>7</th>\n",
       "      <td>PAY_APR</td>\n",
       "      <td>0.007632</td>\n",
       "    </tr>\n",
       "    <tr>\n",
       "      <th>0</th>\n",
       "      <td>CREDIT_LIMIT</td>\n",
       "      <td>0.000000</td>\n",
       "    </tr>\n",
       "    <tr>\n",
       "      <th>24</th>\n",
       "      <td>MARRIAGE_married</td>\n",
       "      <td>0.000000</td>\n",
       "    </tr>\n",
       "    <tr>\n",
       "      <th>23</th>\n",
       "      <td>EDUCATION_university</td>\n",
       "      <td>0.000000</td>\n",
       "    </tr>\n",
       "    <tr>\n",
       "      <th>22</th>\n",
       "      <td>EDUCATION_high sch</td>\n",
       "      <td>0.000000</td>\n",
       "    </tr>\n",
       "    <tr>\n",
       "      <th>21</th>\n",
       "      <td>EDUCATION_graduate</td>\n",
       "      <td>0.000000</td>\n",
       "    </tr>\n",
       "    <tr>\n",
       "      <th>20</th>\n",
       "      <td>SEX_MALE</td>\n",
       "      <td>0.000000</td>\n",
       "    </tr>\n",
       "    <tr>\n",
       "      <th>19</th>\n",
       "      <td>PAY_AMT_APR</td>\n",
       "      <td>0.000000</td>\n",
       "    </tr>\n",
       "    <tr>\n",
       "      <th>18</th>\n",
       "      <td>PAY_AMT_MAY</td>\n",
       "      <td>0.000000</td>\n",
       "    </tr>\n",
       "    <tr>\n",
       "      <th>17</th>\n",
       "      <td>PAY_AMT_JUN</td>\n",
       "      <td>0.000000</td>\n",
       "    </tr>\n",
       "    <tr>\n",
       "      <th>13</th>\n",
       "      <td>BILL_AMT_APR</td>\n",
       "      <td>0.000000</td>\n",
       "    </tr>\n",
       "    <tr>\n",
       "      <th>15</th>\n",
       "      <td>PAY_AMT_AUG</td>\n",
       "      <td>0.000000</td>\n",
       "    </tr>\n",
       "    <tr>\n",
       "      <th>14</th>\n",
       "      <td>PAY_AMT_SEP</td>\n",
       "      <td>0.000000</td>\n",
       "    </tr>\n",
       "    <tr>\n",
       "      <th>1</th>\n",
       "      <td>AGE</td>\n",
       "      <td>0.000000</td>\n",
       "    </tr>\n",
       "    <tr>\n",
       "      <th>12</th>\n",
       "      <td>BILL_AMT_MAY</td>\n",
       "      <td>0.000000</td>\n",
       "    </tr>\n",
       "    <tr>\n",
       "      <th>11</th>\n",
       "      <td>BILL_AMT_JUN</td>\n",
       "      <td>0.000000</td>\n",
       "    </tr>\n",
       "    <tr>\n",
       "      <th>10</th>\n",
       "      <td>BILL_AMT_JUL</td>\n",
       "      <td>0.000000</td>\n",
       "    </tr>\n",
       "    <tr>\n",
       "      <th>9</th>\n",
       "      <td>BILL_AMT_AUG</td>\n",
       "      <td>0.000000</td>\n",
       "    </tr>\n",
       "    <tr>\n",
       "      <th>5</th>\n",
       "      <td>PAY_JUN</td>\n",
       "      <td>0.000000</td>\n",
       "    </tr>\n",
       "    <tr>\n",
       "      <th>4</th>\n",
       "      <td>PAY_JUL</td>\n",
       "      <td>0.000000</td>\n",
       "    </tr>\n",
       "    <tr>\n",
       "      <th>25</th>\n",
       "      <td>MARRIAGE_single</td>\n",
       "      <td>0.000000</td>\n",
       "    </tr>\n",
       "  </tbody>\n",
       "</table>\n",
       "</div>"
      ],
      "text/plain": [
       "                    feat     score\n",
       "2                PAY_SEP  0.720313\n",
       "3                PAY_AUG  0.174710\n",
       "16           PAY_AMT_JUL  0.080407\n",
       "6                PAY_MAY  0.009282\n",
       "8           BILL_AMT_SEP  0.007656\n",
       "7                PAY_APR  0.007632\n",
       "0           CREDIT_LIMIT  0.000000\n",
       "24      MARRIAGE_married  0.000000\n",
       "23  EDUCATION_university  0.000000\n",
       "22    EDUCATION_high sch  0.000000\n",
       "21    EDUCATION_graduate  0.000000\n",
       "20              SEX_MALE  0.000000\n",
       "19           PAY_AMT_APR  0.000000\n",
       "18           PAY_AMT_MAY  0.000000\n",
       "17           PAY_AMT_JUN  0.000000\n",
       "13          BILL_AMT_APR  0.000000\n",
       "15           PAY_AMT_AUG  0.000000\n",
       "14           PAY_AMT_SEP  0.000000\n",
       "1                    AGE  0.000000\n",
       "12          BILL_AMT_MAY  0.000000\n",
       "11          BILL_AMT_JUN  0.000000\n",
       "10          BILL_AMT_JUL  0.000000\n",
       "9           BILL_AMT_AUG  0.000000\n",
       "5                PAY_JUN  0.000000\n",
       "4                PAY_JUL  0.000000\n",
       "25       MARRIAGE_single  0.000000"
      ]
     },
     "execution_count": 47,
     "metadata": {},
     "output_type": "execute_result"
    }
   ],
   "source": [
    "def get_feature_importance(clsf, ftrs):\n",
    "    imp = clsf.feature_importances_.tolist()\n",
    "    feat = ftrs\n",
    "    result = pd.DataFrame({'feat':feat,'score':imp})\n",
    "    result = result.sort_values(by=['score'],ascending=False)\n",
    "    return result\n",
    "\n",
    "get_feature_importance(classifier, features)"
   ]
  },
  {
   "cell_type": "code",
   "execution_count": 48,
   "id": "ea717264",
   "metadata": {},
   "outputs": [
    {
     "data": {
      "text/plain": [
       "0.8193333333333334"
      ]
     },
     "execution_count": 48,
     "metadata": {},
     "output_type": "execute_result"
    }
   ],
   "source": [
    "X = df[['PAY_SEP']].copy()\n",
    "X_train, X_test, y_train, y_test = train_test_split(X, y, test_size=0.20, random_state=42)\n",
    "classifier.fit(X_train, y_train) #same classifier as before\n",
    "predictions = classifier.predict(X_test)\n",
    "accuracy_score(y_true = y_test, y_pred = predictions)"
   ]
  },
  {
   "cell_type": "code",
   "execution_count": 53,
   "id": "789a6c33",
   "metadata": {},
   "outputs": [
    {
     "ename": "ModuleNotFoundError",
     "evalue": "No module named 'graphviz'",
     "output_type": "error",
     "traceback": [
      "\u001b[0;31m---------------------------------------------------------------------------\u001b[0m",
      "\u001b[0;31mModuleNotFoundError\u001b[0m                       Traceback (most recent call last)",
      "Cell \u001b[0;32mIn[53], line 2\u001b[0m\n\u001b[1;32m      1\u001b[0m \u001b[38;5;28;01mfrom\u001b[39;00m \u001b[38;5;21;01msklearn\u001b[39;00m \u001b[38;5;28;01mimport\u001b[39;00m tree\n\u001b[0;32m----> 2\u001b[0m \u001b[38;5;28;01mimport\u001b[39;00m \u001b[38;5;21;01mgraphviz\u001b[39;00m\n\u001b[1;32m      3\u001b[0m dot_data \u001b[38;5;241m=\u001b[39m tree\u001b[38;5;241m.\u001b[39mexport_graphviz(classifier, out_file\u001b[38;5;241m=\u001b[39m\u001b[38;5;28;01mNone\u001b[39;00m)  \n\u001b[1;32m      4\u001b[0m graph \u001b[38;5;241m=\u001b[39m graphviz\u001b[38;5;241m.\u001b[39mSource(dot_data)  \n",
      "\u001b[0;31mModuleNotFoundError\u001b[0m: No module named 'graphviz'"
     ]
    }
   ],
   "source": [
    "from sklearn import tree\n",
    "import graphviz\n",
    "dot_data = tree.export_graphviz(classifier, out_file=None)  \n",
    "graph = graphviz.Source(dot_data)  \n",
    "graph"
   ]
  },
  {
   "cell_type": "code",
   "execution_count": 58,
   "id": "21f6dade",
   "metadata": {},
   "outputs": [
    {
     "name": "stdout",
     "output_type": "stream",
     "text": [
      "<class 'pandas.core.frame.DataFrame'>\n",
      "RangeIndex: 30000 entries, 0 to 29999\n",
      "Data columns (total 26 columns):\n",
      " #   Column                Non-Null Count  Dtype  \n",
      "---  ------                --------------  -----  \n",
      " 0   CREDIT_LIMIT          30000 non-null  float64\n",
      " 1   AGE                   30000 non-null  int64  \n",
      " 2   PAY_SEP               30000 non-null  int64  \n",
      " 3   PAY_AUG               30000 non-null  int64  \n",
      " 4   PAY_JUL               30000 non-null  int64  \n",
      " 5   PAY_JUN               30000 non-null  int64  \n",
      " 6   PAY_MAY               30000 non-null  int64  \n",
      " 7   PAY_APR               30000 non-null  int64  \n",
      " 8   BILL_AMT_SEP          30000 non-null  float64\n",
      " 9   BILL_AMT_AUG          30000 non-null  float64\n",
      " 10  BILL_AMT_JUL          30000 non-null  float64\n",
      " 11  BILL_AMT_JUN          30000 non-null  float64\n",
      " 12  BILL_AMT_MAY          30000 non-null  float64\n",
      " 13  BILL_AMT_APR          30000 non-null  float64\n",
      " 14  PAY_AMT_SEP           30000 non-null  float64\n",
      " 15  PAY_AMT_AUG           30000 non-null  float64\n",
      " 16  PAY_AMT_JUL           30000 non-null  float64\n",
      " 17  PAY_AMT_JUN           30000 non-null  float64\n",
      " 18  PAY_AMT_MAY           30000 non-null  float64\n",
      " 19  PAY_AMT_APR           30000 non-null  float64\n",
      " 20  SEX_MALE              30000 non-null  bool   \n",
      " 21  EDUCATION_graduate    30000 non-null  bool   \n",
      " 22  EDUCATION_high sch    30000 non-null  bool   \n",
      " 23  EDUCATION_university  30000 non-null  bool   \n",
      " 24  MARRIAGE_married      30000 non-null  bool   \n",
      " 25  MARRIAGE_single       30000 non-null  bool   \n",
      "dtypes: bool(6), float64(13), int64(7)\n",
      "memory usage: 4.7 MB\n"
     ]
    }
   ],
   "source": [
    "X = df_log_reg.drop(['TARGET'], axis = 1)\n",
    "y = df_log_reg['TARGET']\n",
    "X.info()"
   ]
  },
  {
   "cell_type": "code",
   "execution_count": 59,
   "id": "a586f3ad",
   "metadata": {},
   "outputs": [
    {
     "data": {
      "text/plain": [
       "0.46871896722939427"
      ]
     },
     "execution_count": 59,
     "metadata": {},
     "output_type": "execute_result"
    }
   ],
   "source": [
    "# import the tool\n",
    "from sklearn.metrics import f1_score\n",
    "#recreate the model and evaluate it\n",
    "X_train, X_test, y_train, y_test = train_test_split(X, y, test_size=0.20, random_state=42)\n",
    "classifier.fit(X_train, y_train) #same classifier as before\n",
    "predictions = classifier.predict(X_test)\n",
    "f1_score(y_true = y_test, y_pred = predictions)"
   ]
  },
  {
   "cell_type": "code",
   "execution_count": 60,
   "id": "a9deb2bf",
   "metadata": {},
   "outputs": [
    {
     "name": "stdout",
     "output_type": "stream",
     "text": [
      "DecisionTreeClassifier(max_depth=5, max_leaf_nodes=20)\n",
      "0.47769491924065033\n",
      "-------------\n",
      "0.46428571428571425\n",
      "                    feat     score\n",
      "2                PAY_SEP  0.703232\n",
      "3                PAY_AUG  0.144478\n",
      "16           PAY_AMT_JUL  0.054263\n",
      "6                PAY_MAY  0.025141\n",
      "8           BILL_AMT_SEP  0.023228\n",
      "0           CREDIT_LIMIT  0.012085\n",
      "4                PAY_JUL  0.008952\n",
      "7                PAY_APR  0.008619\n",
      "5                PAY_JUN  0.007850\n",
      "1                    AGE  0.004129\n",
      "15           PAY_AMT_AUG  0.002779\n",
      "13          BILL_AMT_APR  0.002759\n",
      "18           PAY_AMT_MAY  0.002485\n",
      "12          BILL_AMT_MAY  0.000000\n",
      "11          BILL_AMT_JUN  0.000000\n",
      "14           PAY_AMT_SEP  0.000000\n",
      "10          BILL_AMT_JUL  0.000000\n",
      "9           BILL_AMT_AUG  0.000000\n",
      "17           PAY_AMT_JUN  0.000000\n",
      "19           PAY_AMT_APR  0.000000\n",
      "20              SEX_MALE  0.000000\n",
      "21    EDUCATION_graduate  0.000000\n",
      "22    EDUCATION_high sch  0.000000\n",
      "23  EDUCATION_university  0.000000\n",
      "24      MARRIAGE_married  0.000000\n",
      "25       MARRIAGE_single  0.000000\n",
      "-------------\n",
      "TP: 468, FP: 235, TN: 4452, FN: 845\n"
     ]
    }
   ],
   "source": [
    "param_grid = {'max_depth': np.arange(3, 10),\n",
    "             'criterion' : ['gini','entropy'],\n",
    "             'max_leaf_nodes': [5,10,20,100],\n",
    "             'min_samples_split': [2, 5, 10, 20]}\n",
    "grid_tree = GridSearchCV(DecisionTreeClassifier(), param_grid, cv = 5, scoring= 'f1')\n",
    "grid_tree.fit(X_train, y_train)\n",
    "best = grid_tree.best_estimator_\n",
    "print(grid_tree.best_estimator_)\n",
    "print(np.abs(grid_tree.best_score_))\n",
    "classifier = best\n",
    "classifier.fit(X_train, y_train)\n",
    "predictions = classifier.predict(X_test)\n",
    "print(\"-------------\")\n",
    "print(f1_score(y_true = y_test, y_pred = predictions))\n",
    "print(get_feature_importance(classifier, features))\n",
    "print(\"-------------\")\n",
    "TP = np.sum(np.logical_and(predictions == 1, y_test == 1))\n",
    "TN = np.sum(np.logical_and(predictions == 0, y_test == 0))\n",
    "FP = np.sum(np.logical_and(predictions == 1, y_test == 0))\n",
    "FN = np.sum(np.logical_and(predictions == 0, y_test == 1))\n",
    "print('TP: {}, FP: {}, TN: {}, FN: {}'.format(TP,FP,TN,FN))"
   ]
  },
  {
   "cell_type": "code",
   "execution_count": 61,
   "id": "e61addc3",
   "metadata": {},
   "outputs": [
    {
     "name": "stdout",
     "output_type": "stream",
     "text": [
      "DecisionTreeClassifier(class_weight='balanced', criterion='entropy',\n",
      "                       max_depth=4, max_leaf_nodes=20)\n",
      "0.5273283369187924\n",
      "-------------\n",
      "0.5214857975236707\n",
      "                    feat     score\n",
      "2                PAY_SEP  0.783773\n",
      "15           PAY_AMT_AUG  0.072660\n",
      "5                PAY_JUN  0.049420\n",
      "3                PAY_AUG  0.039703\n",
      "0           CREDIT_LIMIT  0.021096\n",
      "17           PAY_AMT_JUN  0.011974\n",
      "16           PAY_AMT_JUL  0.011705\n",
      "8           BILL_AMT_SEP  0.005508\n",
      "6                PAY_MAY  0.004162\n",
      "24      MARRIAGE_married  0.000000\n",
      "23  EDUCATION_university  0.000000\n",
      "22    EDUCATION_high sch  0.000000\n",
      "21    EDUCATION_graduate  0.000000\n",
      "20              SEX_MALE  0.000000\n",
      "19           PAY_AMT_APR  0.000000\n",
      "18           PAY_AMT_MAY  0.000000\n",
      "13          BILL_AMT_APR  0.000000\n",
      "14           PAY_AMT_SEP  0.000000\n",
      "1                    AGE  0.000000\n",
      "12          BILL_AMT_MAY  0.000000\n",
      "11          BILL_AMT_JUN  0.000000\n",
      "10          BILL_AMT_JUL  0.000000\n",
      "9           BILL_AMT_AUG  0.000000\n",
      "7                PAY_APR  0.000000\n",
      "4                PAY_JUL  0.000000\n",
      "25       MARRIAGE_single  0.000000\n",
      "-------------\n",
      "TP: 716, FP: 717, TN: 3970, FN: 597\n"
     ]
    }
   ],
   "source": [
    "param_grid = {'max_depth': np.arange(3, 10),\n",
    "             'criterion' : ['gini','entropy'],\n",
    "             'max_leaf_nodes': [5,10,20,100],\n",
    "             'min_samples_split': [2, 5, 10, 20],\n",
    "             'class_weight' : ['balanced']}\n",
    "grid_tree = GridSearchCV(DecisionTreeClassifier(), param_grid, cv = 5, scoring= 'f1')\n",
    "grid_tree.fit(X_train, y_train)\n",
    "best = grid_tree.best_estimator_\n",
    "print(grid_tree.best_estimator_)\n",
    "print(np.abs(grid_tree.best_score_))\n",
    "classifier = best\n",
    "classifier.fit(X_train, y_train)\n",
    "predictions = classifier.predict(X_test)\n",
    "print(\"-------------\")\n",
    "print(f1_score(y_true = y_test, y_pred = predictions))\n",
    "print(get_feature_importance(classifier, features))\n",
    "print(\"-------------\")\n",
    "TP = np.sum(np.logical_and(predictions == 1, y_test == 1))\n",
    "TN = np.sum(np.logical_and(predictions == 0, y_test == 0))\n",
    "FP = np.sum(np.logical_and(predictions == 1, y_test == 0))\n",
    "FN = np.sum(np.logical_and(predictions == 0, y_test == 1))\n",
    "print('TP: {}, FP: {}, TN: {}, FN: {}'.format(TP,FP,TN,FN))"
   ]
  },
  {
   "cell_type": "code",
   "execution_count": null,
   "id": "58e7c0d5",
   "metadata": {},
   "outputs": [],
   "source": []
  },
  {
   "cell_type": "code",
   "execution_count": null,
   "id": "09f61782",
   "metadata": {},
   "outputs": [],
   "source": []
  },
  {
   "cell_type": "code",
   "execution_count": null,
   "id": "d24f9bcd",
   "metadata": {},
   "outputs": [],
   "source": []
  },
  {
   "cell_type": "code",
   "execution_count": null,
   "id": "ac8306ee",
   "metadata": {},
   "outputs": [],
   "source": []
  },
  {
   "cell_type": "code",
   "execution_count": null,
   "id": "b854c2cc",
   "metadata": {},
   "outputs": [],
   "source": []
  },
  {
   "cell_type": "code",
   "execution_count": 234,
   "id": "58e98beb",
   "metadata": {},
   "outputs": [],
   "source": [
    "columns = X.columns"
   ]
  },
  {
   "cell_type": "code",
   "execution_count": 235,
   "id": "0782c6c2",
   "metadata": {},
   "outputs": [
    {
     "data": {
      "text/html": [
       "<div>\n",
       "<style scoped>\n",
       "    .dataframe tbody tr th:only-of-type {\n",
       "        vertical-align: middle;\n",
       "    }\n",
       "\n",
       "    .dataframe tbody tr th {\n",
       "        vertical-align: top;\n",
       "    }\n",
       "\n",
       "    .dataframe thead th {\n",
       "        text-align: right;\n",
       "    }\n",
       "</style>\n",
       "<table border=\"1\" class=\"dataframe\">\n",
       "  <thead>\n",
       "    <tr style=\"text-align: right;\">\n",
       "      <th></th>\n",
       "      <th>CREDIT_LIMIT</th>\n",
       "      <th>AGE</th>\n",
       "      <th>PAY_SEP</th>\n",
       "      <th>PAY_AUG</th>\n",
       "      <th>PAY_JUL</th>\n",
       "      <th>PAY_JUN</th>\n",
       "      <th>PAY_MAY</th>\n",
       "      <th>PAY_APR</th>\n",
       "      <th>BILL_AMT_SEP</th>\n",
       "      <th>BILL_AMT_AUG</th>\n",
       "      <th>...</th>\n",
       "      <th>PAY_AMT_JUL</th>\n",
       "      <th>PAY_AMT_JUN</th>\n",
       "      <th>PAY_AMT_MAY</th>\n",
       "      <th>PAY_AMT_APR</th>\n",
       "      <th>SEX_MALE</th>\n",
       "      <th>EDUCATION_graduate</th>\n",
       "      <th>EDUCATION_high sch</th>\n",
       "      <th>EDUCATION_university</th>\n",
       "      <th>MARRIAGE_married</th>\n",
       "      <th>MARRIAGE_single</th>\n",
       "    </tr>\n",
       "  </thead>\n",
       "  <tbody>\n",
       "    <tr>\n",
       "      <th>0</th>\n",
       "      <td>20000.0</td>\n",
       "      <td>24</td>\n",
       "      <td>2</td>\n",
       "      <td>2</td>\n",
       "      <td>0</td>\n",
       "      <td>0</td>\n",
       "      <td>0</td>\n",
       "      <td>0</td>\n",
       "      <td>3913.0</td>\n",
       "      <td>3102.0</td>\n",
       "      <td>...</td>\n",
       "      <td>0.0</td>\n",
       "      <td>0.0</td>\n",
       "      <td>0.0</td>\n",
       "      <td>0.0</td>\n",
       "      <td>False</td>\n",
       "      <td>False</td>\n",
       "      <td>False</td>\n",
       "      <td>True</td>\n",
       "      <td>True</td>\n",
       "      <td>False</td>\n",
       "    </tr>\n",
       "    <tr>\n",
       "      <th>1</th>\n",
       "      <td>120000.0</td>\n",
       "      <td>26</td>\n",
       "      <td>0</td>\n",
       "      <td>2</td>\n",
       "      <td>0</td>\n",
       "      <td>0</td>\n",
       "      <td>0</td>\n",
       "      <td>2</td>\n",
       "      <td>2682.0</td>\n",
       "      <td>1725.0</td>\n",
       "      <td>...</td>\n",
       "      <td>1000.0</td>\n",
       "      <td>1000.0</td>\n",
       "      <td>0.0</td>\n",
       "      <td>2000.0</td>\n",
       "      <td>False</td>\n",
       "      <td>False</td>\n",
       "      <td>False</td>\n",
       "      <td>True</td>\n",
       "      <td>False</td>\n",
       "      <td>True</td>\n",
       "    </tr>\n",
       "    <tr>\n",
       "      <th>2</th>\n",
       "      <td>90000.0</td>\n",
       "      <td>34</td>\n",
       "      <td>0</td>\n",
       "      <td>0</td>\n",
       "      <td>0</td>\n",
       "      <td>0</td>\n",
       "      <td>0</td>\n",
       "      <td>0</td>\n",
       "      <td>29239.0</td>\n",
       "      <td>14027.0</td>\n",
       "      <td>...</td>\n",
       "      <td>1000.0</td>\n",
       "      <td>1000.0</td>\n",
       "      <td>1000.0</td>\n",
       "      <td>5000.0</td>\n",
       "      <td>False</td>\n",
       "      <td>False</td>\n",
       "      <td>False</td>\n",
       "      <td>True</td>\n",
       "      <td>False</td>\n",
       "      <td>True</td>\n",
       "    </tr>\n",
       "    <tr>\n",
       "      <th>3</th>\n",
       "      <td>50000.0</td>\n",
       "      <td>37</td>\n",
       "      <td>0</td>\n",
       "      <td>0</td>\n",
       "      <td>0</td>\n",
       "      <td>0</td>\n",
       "      <td>0</td>\n",
       "      <td>0</td>\n",
       "      <td>46990.0</td>\n",
       "      <td>48233.0</td>\n",
       "      <td>...</td>\n",
       "      <td>1200.0</td>\n",
       "      <td>1100.0</td>\n",
       "      <td>1069.0</td>\n",
       "      <td>1000.0</td>\n",
       "      <td>False</td>\n",
       "      <td>False</td>\n",
       "      <td>False</td>\n",
       "      <td>True</td>\n",
       "      <td>True</td>\n",
       "      <td>False</td>\n",
       "    </tr>\n",
       "    <tr>\n",
       "      <th>4</th>\n",
       "      <td>50000.0</td>\n",
       "      <td>57</td>\n",
       "      <td>0</td>\n",
       "      <td>0</td>\n",
       "      <td>0</td>\n",
       "      <td>0</td>\n",
       "      <td>0</td>\n",
       "      <td>0</td>\n",
       "      <td>8617.0</td>\n",
       "      <td>5670.0</td>\n",
       "      <td>...</td>\n",
       "      <td>10000.0</td>\n",
       "      <td>9000.0</td>\n",
       "      <td>689.0</td>\n",
       "      <td>679.0</td>\n",
       "      <td>True</td>\n",
       "      <td>False</td>\n",
       "      <td>False</td>\n",
       "      <td>True</td>\n",
       "      <td>True</td>\n",
       "      <td>False</td>\n",
       "    </tr>\n",
       "  </tbody>\n",
       "</table>\n",
       "<p>5 rows × 26 columns</p>\n",
       "</div>"
      ],
      "text/plain": [
       "   CREDIT_LIMIT  AGE  PAY_SEP  PAY_AUG  PAY_JUL  PAY_JUN  PAY_MAY  PAY_APR  \\\n",
       "0       20000.0   24        2        2        0        0        0        0   \n",
       "1      120000.0   26        0        2        0        0        0        2   \n",
       "2       90000.0   34        0        0        0        0        0        0   \n",
       "3       50000.0   37        0        0        0        0        0        0   \n",
       "4       50000.0   57        0        0        0        0        0        0   \n",
       "\n",
       "   BILL_AMT_SEP  BILL_AMT_AUG  ...  PAY_AMT_JUL  PAY_AMT_JUN  PAY_AMT_MAY  \\\n",
       "0        3913.0        3102.0  ...          0.0          0.0          0.0   \n",
       "1        2682.0        1725.0  ...       1000.0       1000.0          0.0   \n",
       "2       29239.0       14027.0  ...       1000.0       1000.0       1000.0   \n",
       "3       46990.0       48233.0  ...       1200.0       1100.0       1069.0   \n",
       "4        8617.0        5670.0  ...      10000.0       9000.0        689.0   \n",
       "\n",
       "   PAY_AMT_APR  SEX_MALE  EDUCATION_graduate  EDUCATION_high sch  \\\n",
       "0          0.0     False               False               False   \n",
       "1       2000.0     False               False               False   \n",
       "2       5000.0     False               False               False   \n",
       "3       1000.0     False               False               False   \n",
       "4        679.0      True               False               False   \n",
       "\n",
       "   EDUCATION_university  MARRIAGE_married  MARRIAGE_single  \n",
       "0                  True              True            False  \n",
       "1                  True             False             True  \n",
       "2                  True             False             True  \n",
       "3                  True              True            False  \n",
       "4                  True              True            False  \n",
       "\n",
       "[5 rows x 26 columns]"
      ]
     },
     "execution_count": 235,
     "metadata": {},
     "output_type": "execute_result"
    }
   ],
   "source": [
    "X.head()"
   ]
  },
  {
   "cell_type": "code",
   "execution_count": 236,
   "id": "8fd9df6c",
   "metadata": {},
   "outputs": [
    {
     "data": {
      "text/plain": [
       "0    1\n",
       "1    1\n",
       "2    0\n",
       "3    0\n",
       "4    0\n",
       "Name: TARGET, dtype: int64"
      ]
     },
     "execution_count": 236,
     "metadata": {},
     "output_type": "execute_result"
    }
   ],
   "source": [
    "y.head()"
   ]
  },
  {
   "cell_type": "code",
   "execution_count": 238,
   "id": "c25873c9",
   "metadata": {},
   "outputs": [],
   "source": [
    "scaler = StandardScaler()\n",
    "X = scaler.fit_transform(X)"
   ]
  },
  {
   "cell_type": "code",
   "execution_count": 239,
   "id": "f8929a1d",
   "metadata": {},
   "outputs": [],
   "source": [
    "X_train, X_test, y_train, y_test = train_test_split(X, y, \n",
    "                                                    test_size=0.33, \n",
    "                                                    random_state=42, \n",
    "                                                    stratify = y)"
   ]
  },
  {
   "cell_type": "code",
   "execution_count": 240,
   "id": "afbad273",
   "metadata": {},
   "outputs": [
    {
     "data": {
      "text/plain": [
       "20100"
      ]
     },
     "execution_count": 240,
     "metadata": {},
     "output_type": "execute_result"
    }
   ],
   "source": [
    "len(X_train)"
   ]
  },
  {
   "cell_type": "code",
   "execution_count": 241,
   "id": "41399758",
   "metadata": {},
   "outputs": [
    {
     "data": {
      "text/plain": [
       "9900"
      ]
     },
     "execution_count": 241,
     "metadata": {},
     "output_type": "execute_result"
    }
   ],
   "source": [
    "len(X_test)"
   ]
  },
  {
   "cell_type": "code",
   "execution_count": 242,
   "id": "81b7a497",
   "metadata": {},
   "outputs": [],
   "source": [
    "param_grid = {'penalty':['l1','l2'], 'C' : [0.001, 0.01, 0.1, 1, 10, 100, 1000] }"
   ]
  },
  {
   "cell_type": "code",
   "execution_count": 243,
   "id": "bd838b91",
   "metadata": {},
   "outputs": [
    {
     "name": "stdout",
     "output_type": "stream",
     "text": [
      "Fitting 3 folds for each of 14 candidates, totalling 42 fits\n"
     ]
    },
    {
     "name": "stderr",
     "output_type": "stream",
     "text": [
      "/Users/princip/anaconda3/lib/python3.11/site-packages/sklearn/model_selection/_validation.py:425: FitFailedWarning: \n",
      "21 fits failed out of a total of 42.\n",
      "The score on these train-test partitions for these parameters will be set to nan.\n",
      "If these failures are not expected, you can try to debug them by setting error_score='raise'.\n",
      "\n",
      "Below are more details about the failures:\n",
      "--------------------------------------------------------------------------------\n",
      "21 fits failed with the following error:\n",
      "Traceback (most recent call last):\n",
      "  File \"/Users/princip/anaconda3/lib/python3.11/site-packages/sklearn/model_selection/_validation.py\", line 732, in _fit_and_score\n",
      "    estimator.fit(X_train, y_train, **fit_params)\n",
      "  File \"/Users/princip/anaconda3/lib/python3.11/site-packages/sklearn/base.py\", line 1151, in wrapper\n",
      "    return fit_method(estimator, *args, **kwargs)\n",
      "           ^^^^^^^^^^^^^^^^^^^^^^^^^^^^^^^^^^^^^^\n",
      "  File \"/Users/princip/anaconda3/lib/python3.11/site-packages/sklearn/linear_model/_logistic.py\", line 1168, in fit\n",
      "    solver = _check_solver(self.solver, self.penalty, self.dual)\n",
      "             ^^^^^^^^^^^^^^^^^^^^^^^^^^^^^^^^^^^^^^^^^^^^^^^^^^^\n",
      "  File \"/Users/princip/anaconda3/lib/python3.11/site-packages/sklearn/linear_model/_logistic.py\", line 56, in _check_solver\n",
      "    raise ValueError(\n",
      "ValueError: Solver lbfgs supports only 'l2' or 'none' penalties, got l1 penalty.\n",
      "\n",
      "  warnings.warn(some_fits_failed_message, FitFailedWarning)\n",
      "/Users/princip/anaconda3/lib/python3.11/site-packages/sklearn/model_selection/_search.py:976: UserWarning: One or more of the test scores are non-finite: [       nan 0.80965174        nan 0.81850746        nan 0.81970149\n",
      "        nan 0.81995025        nan 0.82              nan 0.82\n",
      "        nan 0.82      ]\n",
      "  warnings.warn(\n"
     ]
    },
    {
     "data": {
      "text/html": [
       "<style>#sk-container-id-7 {color: black;}#sk-container-id-7 pre{padding: 0;}#sk-container-id-7 div.sk-toggleable {background-color: white;}#sk-container-id-7 label.sk-toggleable__label {cursor: pointer;display: block;width: 100%;margin-bottom: 0;padding: 0.3em;box-sizing: border-box;text-align: center;}#sk-container-id-7 label.sk-toggleable__label-arrow:before {content: \"▸\";float: left;margin-right: 0.25em;color: #696969;}#sk-container-id-7 label.sk-toggleable__label-arrow:hover:before {color: black;}#sk-container-id-7 div.sk-estimator:hover label.sk-toggleable__label-arrow:before {color: black;}#sk-container-id-7 div.sk-toggleable__content {max-height: 0;max-width: 0;overflow: hidden;text-align: left;background-color: #f0f8ff;}#sk-container-id-7 div.sk-toggleable__content pre {margin: 0.2em;color: black;border-radius: 0.25em;background-color: #f0f8ff;}#sk-container-id-7 input.sk-toggleable__control:checked~div.sk-toggleable__content {max-height: 200px;max-width: 100%;overflow: auto;}#sk-container-id-7 input.sk-toggleable__control:checked~label.sk-toggleable__label-arrow:before {content: \"▾\";}#sk-container-id-7 div.sk-estimator input.sk-toggleable__control:checked~label.sk-toggleable__label {background-color: #d4ebff;}#sk-container-id-7 div.sk-label input.sk-toggleable__control:checked~label.sk-toggleable__label {background-color: #d4ebff;}#sk-container-id-7 input.sk-hidden--visually {border: 0;clip: rect(1px 1px 1px 1px);clip: rect(1px, 1px, 1px, 1px);height: 1px;margin: -1px;overflow: hidden;padding: 0;position: absolute;width: 1px;}#sk-container-id-7 div.sk-estimator {font-family: monospace;background-color: #f0f8ff;border: 1px dotted black;border-radius: 0.25em;box-sizing: border-box;margin-bottom: 0.5em;}#sk-container-id-7 div.sk-estimator:hover {background-color: #d4ebff;}#sk-container-id-7 div.sk-parallel-item::after {content: \"\";width: 100%;border-bottom: 1px solid gray;flex-grow: 1;}#sk-container-id-7 div.sk-label:hover label.sk-toggleable__label {background-color: #d4ebff;}#sk-container-id-7 div.sk-serial::before {content: \"\";position: absolute;border-left: 1px solid gray;box-sizing: border-box;top: 0;bottom: 0;left: 50%;z-index: 0;}#sk-container-id-7 div.sk-serial {display: flex;flex-direction: column;align-items: center;background-color: white;padding-right: 0.2em;padding-left: 0.2em;position: relative;}#sk-container-id-7 div.sk-item {position: relative;z-index: 1;}#sk-container-id-7 div.sk-parallel {display: flex;align-items: stretch;justify-content: center;background-color: white;position: relative;}#sk-container-id-7 div.sk-item::before, #sk-container-id-7 div.sk-parallel-item::before {content: \"\";position: absolute;border-left: 1px solid gray;box-sizing: border-box;top: 0;bottom: 0;left: 50%;z-index: -1;}#sk-container-id-7 div.sk-parallel-item {display: flex;flex-direction: column;z-index: 1;position: relative;background-color: white;}#sk-container-id-7 div.sk-parallel-item:first-child::after {align-self: flex-end;width: 50%;}#sk-container-id-7 div.sk-parallel-item:last-child::after {align-self: flex-start;width: 50%;}#sk-container-id-7 div.sk-parallel-item:only-child::after {width: 0;}#sk-container-id-7 div.sk-dashed-wrapped {border: 1px dashed gray;margin: 0 0.4em 0.5em 0.4em;box-sizing: border-box;padding-bottom: 0.4em;background-color: white;}#sk-container-id-7 div.sk-label label {font-family: monospace;font-weight: bold;display: inline-block;line-height: 1.2em;}#sk-container-id-7 div.sk-label-container {text-align: center;}#sk-container-id-7 div.sk-container {/* jupyter's `normalize.less` sets `[hidden] { display: none; }` but bootstrap.min.css set `[hidden] { display: none !important; }` so we also need the `!important` here to be able to override the default hidden behavior on the sphinx rendered scikit-learn.org. See: https://github.com/scikit-learn/scikit-learn/issues/21755 */display: inline-block !important;position: relative;}#sk-container-id-7 div.sk-text-repr-fallback {display: none;}</style><div id=\"sk-container-id-7\" class=\"sk-top-container\"><div class=\"sk-text-repr-fallback\"><pre>GridSearchCV(cv=3, estimator=LogisticRegression(), n_jobs=-1,\n",
       "             param_grid={&#x27;C&#x27;: [0.001, 0.01, 0.1, 1, 10, 100, 1000],\n",
       "                         &#x27;penalty&#x27;: [&#x27;l1&#x27;, &#x27;l2&#x27;]},\n",
       "             scoring=&#x27;accuracy&#x27;, verbose=3)</pre><b>In a Jupyter environment, please rerun this cell to show the HTML representation or trust the notebook. <br />On GitHub, the HTML representation is unable to render, please try loading this page with nbviewer.org.</b></div><div class=\"sk-container\" hidden><div class=\"sk-item sk-dashed-wrapped\"><div class=\"sk-label-container\"><div class=\"sk-label sk-toggleable\"><input class=\"sk-toggleable__control sk-hidden--visually\" id=\"sk-estimator-id-17\" type=\"checkbox\" ><label for=\"sk-estimator-id-17\" class=\"sk-toggleable__label sk-toggleable__label-arrow\">GridSearchCV</label><div class=\"sk-toggleable__content\"><pre>GridSearchCV(cv=3, estimator=LogisticRegression(), n_jobs=-1,\n",
       "             param_grid={&#x27;C&#x27;: [0.001, 0.01, 0.1, 1, 10, 100, 1000],\n",
       "                         &#x27;penalty&#x27;: [&#x27;l1&#x27;, &#x27;l2&#x27;]},\n",
       "             scoring=&#x27;accuracy&#x27;, verbose=3)</pre></div></div></div><div class=\"sk-parallel\"><div class=\"sk-parallel-item\"><div class=\"sk-item\"><div class=\"sk-label-container\"><div class=\"sk-label sk-toggleable\"><input class=\"sk-toggleable__control sk-hidden--visually\" id=\"sk-estimator-id-18\" type=\"checkbox\" ><label for=\"sk-estimator-id-18\" class=\"sk-toggleable__label sk-toggleable__label-arrow\">estimator: LogisticRegression</label><div class=\"sk-toggleable__content\"><pre>LogisticRegression()</pre></div></div></div><div class=\"sk-serial\"><div class=\"sk-item\"><div class=\"sk-estimator sk-toggleable\"><input class=\"sk-toggleable__control sk-hidden--visually\" id=\"sk-estimator-id-19\" type=\"checkbox\" ><label for=\"sk-estimator-id-19\" class=\"sk-toggleable__label sk-toggleable__label-arrow\">LogisticRegression</label><div class=\"sk-toggleable__content\"><pre>LogisticRegression()</pre></div></div></div></div></div></div></div></div></div></div>"
      ],
      "text/plain": [
       "GridSearchCV(cv=3, estimator=LogisticRegression(), n_jobs=-1,\n",
       "             param_grid={'C': [0.001, 0.01, 0.1, 1, 10, 100, 1000],\n",
       "                         'penalty': ['l1', 'l2']},\n",
       "             scoring='accuracy', verbose=3)"
      ]
     },
     "execution_count": 243,
     "metadata": {},
     "output_type": "execute_result"
    }
   ],
   "source": [
    "grid_lr_clf = GridSearchCV(LogisticRegression(), param_grid, scoring = 'accuracy', n_jobs = -1, verbose = 3, cv = 3)\n",
    "grid_lr_clf.fit(X_train, y_train)"
   ]
  },
  {
   "cell_type": "code",
   "execution_count": 244,
   "id": "fde412b2",
   "metadata": {},
   "outputs": [],
   "source": [
    "optimized_clf = grid_lr_clf.best_estimator_"
   ]
  },
  {
   "cell_type": "code",
   "execution_count": 245,
   "id": "0482d91e",
   "metadata": {},
   "outputs": [
    {
     "data": {
      "text/plain": [
       "{'C': 10, 'penalty': 'l2'}"
      ]
     },
     "execution_count": 245,
     "metadata": {},
     "output_type": "execute_result"
    }
   ],
   "source": [
    "grid_lr_clf.best_params_"
   ]
  },
  {
   "cell_type": "code",
   "execution_count": 246,
   "id": "4ec55fb8",
   "metadata": {},
   "outputs": [
    {
     "data": {
      "text/plain": [
       "0.82"
      ]
     },
     "execution_count": 246,
     "metadata": {},
     "output_type": "execute_result"
    }
   ],
   "source": [
    "grid_lr_clf.best_score_"
   ]
  },
  {
   "cell_type": "code",
   "execution_count": 247,
   "id": "590fe2b9",
   "metadata": {},
   "outputs": [],
   "source": [
    "# Predicted Probability\n",
    "train_preds = optimized_clf.predict_proba(X_train)[:,1]\n",
    "test_preds = optimized_clf.predict_proba(X_test)[:,1]"
   ]
  },
  {
   "cell_type": "code",
   "execution_count": 248,
   "id": "9ff4e7db",
   "metadata": {},
   "outputs": [],
   "source": [
    "# Get the predicted classes\n",
    "train_class_preds = optimized_clf.predict(X_train)\n",
    "test_class_preds = optimized_clf.predict(X_test)"
   ]
  },
  {
   "cell_type": "code",
   "execution_count": 249,
   "id": "5e4f5fea",
   "metadata": {},
   "outputs": [
    {
     "name": "stdout",
     "output_type": "stream",
     "text": [
      "The accuracy on train data is  0.8201492537313433\n",
      "The accuracy on test data is  0.8152525252525252\n"
     ]
    }
   ],
   "source": [
    "# Get the accuracy scores\n",
    "train_accuracy_lr = accuracy_score(train_class_preds,y_train)\n",
    "test_accuracy_lr = accuracy_score(test_class_preds,y_test)\n",
    "\n",
    "print(\"The accuracy on train data is \", train_accuracy_lr)\n",
    "print(\"The accuracy on test data is \", test_accuracy_lr)"
   ]
  },
  {
   "cell_type": "code",
   "execution_count": 250,
   "id": "d2b018fe",
   "metadata": {},
   "outputs": [
    {
     "name": "stdout",
     "output_type": "stream",
     "text": [
      "The accuracy on test data is  0.8152525252525252\n",
      "The precision on test data is  0.32511415525114157\n",
      "The recall on test data is  0.6698024459078081\n",
      "The f1 on test data is  0.43774976944359056\n",
      "The roc_score on test data is  0.7512755581355268\n"
     ]
    }
   ],
   "source": [
    "test_accuracy_lr = accuracy_score(test_class_preds,y_test)\n",
    "test_precision_score_lr = precision_score(test_class_preds,y_test)\n",
    "test_recall_score_lr = recall_score(test_class_preds,y_test)\n",
    "test_f1_score_lr = f1_score(test_class_preds,y_test)\n",
    "test_roc_score_lr = roc_auc_score(test_class_preds,y_test)\n",
    "\n",
    "print(\"The accuracy on test data is \", test_accuracy_lr)\n",
    "print(\"The precision on test data is \", test_precision_score_lr)\n",
    "print(\"The recall on test data is \", test_recall_score_lr)\n",
    "print(\"The f1 on test data is \", test_f1_score_lr)\n",
    "print(\"The roc_score on test data is \", test_roc_score_lr)"
   ]
  },
  {
   "cell_type": "code",
   "execution_count": 251,
   "id": "f8937cf7",
   "metadata": {},
   "outputs": [
    {
     "name": "stdout",
     "output_type": "stream",
     "text": [
      "[[14974   680]\n",
      " [ 2935  1511]]\n"
     ]
    },
    {
     "data": {
      "text/plain": [
       "[Text(0, 0.5, 'Not Defaulter'), Text(0, 1.5, 'Defaulter')]"
      ]
     },
     "execution_count": 251,
     "metadata": {},
     "output_type": "execute_result"
    },
    {
     "data": {
      "image/png": "[encoded data removed]",
      "text/plain": [
       "<Figure size 640x480 with 2 Axes>"
      ]
     },
     "metadata": {},
     "output_type": "display_data"
    },
    {
     "name": "stdout",
     "output_type": "stream",
     "text": [
      "[CV 1/3] END ................C=0.01, penalty=l2;, score=0.818 total time=   0.1s\n",
      "[CV 1/3] END ..................C=1000, penalty=l1;, score=nan total time=   0.0s\n",
      "[CV 2/3] END ..................C=1000, penalty=l1;, score=nan total time=   0.0s\n",
      "[CV 1/3] END ................C=1000, penalty=l2;, score=0.819 total time=   0.1s\n",
      "[CV 2/3] END ...............C=0.001, penalty=l2;, score=0.818 total time=   0.0s\n",
      "[CV 1/3] END ....................C=10, penalty=l1;, score=nan total time=   0.0s\n",
      "[CV 2/3] END ..................C=10, penalty=l2;, score=0.823 total time=   0.2s\n",
      "[CV 3/3] END ..................C=0.01, penalty=l1;, score=nan total time=   0.0s\n",
      "[CV 2/3] END .................C=0.001, penalty=l1;, score=nan total time=   0.0s\n",
      "[CV 2/3] END ...................C=0.1, penalty=l1;, score=nan total time=   0.0s\n",
      "[CV 1/3] END .................C=0.1, penalty=l2;, score=0.819 total time=   0.1s\n",
      "[CV 2/3] END .....................C=1, penalty=l1;, score=nan total time=   0.0s\n",
      "[CV 2/3] END ...................C=1, penalty=l2;, score=0.824 total time=   0.1s\n",
      "[CV 1/3] END .................C=0.001, penalty=l1;, score=nan total time=   0.0s\n",
      "[CV 3/3] END ...............C=0.001, penalty=l2;, score=0.807 total time=   0.0s\n",
      "[CV 1/3] END ...................C=0.1, penalty=l1;, score=nan total time=   0.0s\n",
      "[CV 2/3] END .................C=0.1, penalty=l2;, score=0.823 total time=   0.0s\n",
      "[CV 1/3] END ...................C=100, penalty=l1;, score=nan total time=   0.0s\n",
      "[CV 3/3] END ..................C=0.01, penalty=l1;, score=nan total time=   0.0s\n",
      "[CV 1/3] END .....................C=1, penalty=l1;, score=nan total time=   0.0s\n",
      "[CV 1/3] END ...................C=1, penalty=l2;, score=0.819 total time=   0.1s\n",
      "[CV 3/3] END ..................C=1000, penalty=l1;, score=nan total time=   0.0s\n",
      "[CV 2/3] END ................C=1000, penalty=l2;, score=0.823 total time=   0.1s\n",
      "[CV 3/3] END .................C=0.001, penalty=l1;, score=nan total time=   0.0s\n",
      "[CV 2/3] END ..................C=0.01, penalty=l1;, score=nan total time=   0.0s\n",
      "[CV 1/3] END ................C=0.01, penalty=l2;, score=0.816 total time=   0.0s\n",
      "[CV 3/3] END .................C=0.1, penalty=l2;, score=0.819 total time=   0.0s\n",
      "[CV 1/3] END ..................C=1000, penalty=l1;, score=nan total time=   0.0s\n",
      "[CV 1/3] END ..................C=0.01, penalty=l1;, score=nan total time=   0.0s\n",
      "[CV 1/3] END ..................C=10, penalty=l2;, score=0.819 total time=   0.1s\n",
      "[CV 1/3] END ...............C=0.001, penalty=l2;, score=0.809 total time=   0.0s\n",
      "[CV 2/3] END ...................C=0.1, penalty=l1;, score=nan total time=   0.0s\n",
      "[CV 1/3] END .................C=0.1, penalty=l2;, score=0.817 total time=   0.0s\n",
      "[CV 2/3] END ...................C=100, penalty=l1;, score=nan total time=   0.0s\n",
      "[CV 1/3] END .................C=100, penalty=l2;, score=0.817 total time=   0.0s\n",
      "[CV 3/3] END ................C=0.01, penalty=l2;, score=0.820 total time=   0.1s\n",
      "[CV 2/3] END ...................C=1, penalty=l2;, score=0.824 total time=   0.0s\n",
      "[CV 1/3] END .................C=0.001, penalty=l1;, score=nan total time=   0.0s\n",
      "[CV 1/3] END ...................C=0.1, penalty=l1;, score=nan total time=   0.0s\n",
      "[CV 3/3] END ...................C=0.1, penalty=l1;, score=nan total time=   0.0s\n",
      "[CV 2/3] END .................C=0.1, penalty=l2;, score=0.824 total time=   0.1s\n",
      "[CV 3/3] END .....................C=1, penalty=l1;, score=nan total time=   0.0s\n",
      "[CV 3/3] END ...................C=1, penalty=l2;, score=0.820 total time=   0.1s\n",
      "[CV 3/3] END ................C=1000, penalty=l2;, score=0.820 total time=   0.1s\n",
      "[CV 3/3] END ...................C=1, penalty=l2;, score=0.820 total time=   0.0s\n",
      "[CV 2/3] END ..................C=1000, penalty=l1;, score=nan total time=   0.0s\n",
      "[CV 2/3] END ................C=0.01, penalty=l2;, score=0.823 total time=   0.1s\n",
      "[CV 2/3] END .................C=0.001, penalty=l1;, score=nan total time=   0.0s\n",
      "[CV 1/3] END ..................C=0.01, penalty=l1;, score=nan total time=   0.0s\n",
      "[CV 2/3] END ................C=0.01, penalty=l2;, score=0.822 total time=   0.0s\n",
      "[CV 2/3] END .....................C=1, penalty=l1;, score=nan total time=   0.0s\n",
      "[CV 2/3] END ....................C=10, penalty=l1;, score=nan total time=   0.0s\n",
      "[CV 3/3] END ...................C=100, penalty=l1;, score=nan total time=   0.0s\n",
      "[CV 3/3] END .................C=100, penalty=l2;, score=0.820 total time=   0.0s\n",
      "[CV 1/3] END ...............C=0.001, penalty=l2;, score=0.812 total time=   0.1s\n",
      "[CV 2/3] END ....................C=10, penalty=l1;, score=nan total time=   0.0s\n",
      "[CV 3/3] END ..................C=10, penalty=l2;, score=0.820 total time=   0.2s\n",
      "[CV 2/3] END ...............C=0.001, penalty=l2;, score=0.813 total time=   0.0s\n",
      "[CV 1/3] END .....................C=1, penalty=l1;, score=nan total time=   0.0s\n",
      "[CV 1/3] END ...................C=1, penalty=l2;, score=0.817 total time=   0.0s\n",
      "[CV 2/3] END .................C=100, penalty=l2;, score=0.823 total time=   0.0s\n",
      "[CV 3/3] END ...............C=0.001, penalty=l2;, score=0.812 total time=   0.1s\n",
      "[CV 1/3] END .................C=100, penalty=l2;, score=0.819 total time=   0.1s\n",
      "[CV 3/3] END ................C=0.01, penalty=l2;, score=0.818 total time=   0.0s\n",
      "[CV 1/3] END ..................C=10, penalty=l2;, score=0.817 total time=   0.0s\n",
      "[CV 1/3] END ................C=1000, penalty=l2;, score=0.817 total time=   0.0s\n",
      "[CV 3/3] END .................C=0.001, penalty=l1;, score=nan total time=   0.0s\n",
      "[CV 3/3] END .................C=0.1, penalty=l2;, score=0.820 total time=   0.1s\n",
      "[CV 3/3] END ....................C=10, penalty=l1;, score=nan total time=   0.0s\n",
      "[CV 1/3] END ...................C=100, penalty=l1;, score=nan total time=   0.0s\n",
      "[CV 3/3] END ...................C=100, penalty=l1;, score=nan total time=   0.0s\n",
      "[CV 2/3] END .................C=100, penalty=l2;, score=0.823 total time=   0.1s\n",
      "[CV 3/3] END .....................C=1, penalty=l1;, score=nan total time=   0.0s\n",
      "[CV 2/3] END ..................C=10, penalty=l2;, score=0.823 total time=   0.0s\n",
      "[CV 2/3] END ................C=1000, penalty=l2;, score=0.823 total time=   0.0s\n",
      "[CV 2/3] END ..................C=0.01, penalty=l1;, score=nan total time=   0.0s\n",
      "[CV 2/3] END ...................C=100, penalty=l1;, score=nan total time=   0.0s\n",
      "[CV 3/3] END .................C=100, penalty=l2;, score=0.820 total time=   0.1s\n",
      "[CV 3/3] END ...................C=0.1, penalty=l1;, score=nan total time=   0.0s\n",
      "[CV 1/3] END ....................C=10, penalty=l1;, score=nan total time=   0.0s\n",
      "[CV 3/3] END ....................C=10, penalty=l1;, score=nan total time=   0.0s\n",
      "[CV 3/3] END ..................C=10, penalty=l2;, score=0.820 total time=   0.0s\n",
      "[CV 3/3] END ..................C=1000, penalty=l1;, score=nan total time=   0.0s\n",
      "[CV 3/3] END ................C=1000, penalty=l2;, score=0.820 total time=   0.0s\n"
     ]
    }
   ],
   "source": [
    "# Get the confusion matrix for both train and test\n",
    "\n",
    "labels = ['Not Defaulter', 'Defaulter']\n",
    "cm = confusion_matrix(y_train, train_class_preds)\n",
    "print(cm)\n",
    "\n",
    "ax= plt.subplot()\n",
    "sns.heatmap(cm, annot=True, ax = ax) #annot=True to annotate cells\n",
    "\n",
    "# labels, title and ticks\n",
    "ax.set_xlabel('Predicted labels')\n",
    "ax.set_ylabel('True labels')\n",
    "ax.set_title('Confusion Matrix')\n",
    "ax.xaxis.set_ticklabels(labels)\n",
    "ax.yaxis.set_ticklabels(labels)"
   ]
  },
  {
   "cell_type": "code",
   "execution_count": 131,
   "id": "55e020b4",
   "metadata": {},
   "outputs": [],
   "source": [
    "feature_importance = pd.DataFrame({'Features':columns, 'Importance':np.abs(optimized_clf.coef_).ravel() })"
   ]
  },
  {
   "cell_type": "code",
   "execution_count": 133,
   "id": "1cbb02c6",
   "metadata": {},
   "outputs": [],
   "source": [
    "feature_importance = feature_importance.sort_values(by = 'Importance', ascending=False)[:10]"
   ]
  },
  {
   "cell_type": "code",
   "execution_count": 135,
   "id": "537df594",
   "metadata": {},
   "outputs": [
    {
     "data": {
      "image/png": "[encoded data removed]",
      "text/plain": [
       "<Figure size 640x480 with 1 Axes>"
      ]
     },
     "metadata": {},
     "output_type": "display_data"
    },
    {
     "name": "stdout",
     "output_type": "stream",
     "text": [
      "[CV 1/3] END ...............C=0.001, penalty=l2;, score=0.809 total time=   0.0s\n",
      "[CV 1/3] END ..................C=10, penalty=l2;, score=0.817 total time=   0.0s\n"
     ]
    }
   ],
   "source": [
    "plt.bar(height=feature_importance['Importance'], x= feature_importance['Features'])\n",
    "plt.xticks(rotation=80)\n",
    "plt.title(\"Feature importances via coefficients\")\n",
    "plt.show()"
   ]
  },
  {
   "cell_type": "code",
   "execution_count": 136,
   "id": "1fb69a87",
   "metadata": {},
   "outputs": [],
   "source": [
    "y_preds_proba_lr = optimized_clf.predict_proba(X_test)[::,1]"
   ]
  },
  {
   "cell_type": "code",
   "execution_count": 137,
   "id": "d39eee78",
   "metadata": {},
   "outputs": [
    {
     "data": {
      "image/png": "[encoded data removed]",
      "text/plain": [
       "<Figure size 640x480 with 1 Axes>"
      ]
     },
     "metadata": {},
     "output_type": "display_data"
    }
   ],
   "source": [
    "y_pred_proba = y_preds_proba_lr\n",
    "fpr, tpr, _ = roc_curve(y_test,  y_pred_proba)\n",
    "auc = roc_auc_score(y_test, y_pred_proba)\n",
    "plt.plot(fpr,tpr,label=\"data 1, auc=\"+str(auc))\n",
    "plt.legend(loc=4)\n",
    "plt.show()"
   ]
  },
  {
   "cell_type": "markdown",
   "id": "301e6bd5",
   "metadata": {},
   "source": [
    "# Implementing Decision Tree\n",
    "\n",
    "Decision Tree is another very popular algorithm for classification problems because it is easy to interpret and understand. An internal node represents a feature, the branch represents a decision rule, and each leaf node represents the outcome. Some advantages of decision trees are that they require less data preprocessing, i.e., no need to normalize features. However, noisy data can be easily overfitted and results in biased results when the data set is imbalanced."
   ]
  },
  {
   "cell_type": "code",
   "execution_count": 33,
   "id": "53c23dc5",
   "metadata": {},
   "outputs": [],
   "source": [
    "from sklearn.tree import DecisionTreeClassifier  "
   ]
  },
  {
   "cell_type": "markdown",
   "id": "23cc5fbf",
   "metadata": {},
   "source": [
    "'''\n",
    "So it is easy to mess up your model, apparently. There is a better way that I know to get your parameters right, which is to use GridSearchCV. Essentially we give a parameters space and test our model on every point of this space, returning the ideal combination of parameters.\n",
    "\n",
    "Be aware that the more you complicate the grid, the longer it takes, because it is running it every time with a different combination of parameters.\n",
    "\n",
    "It is a good chance to discuss the three parameters that I understand\n",
    "\n",
    "- criterion can be gini (measures how often a randomly chosen element would be incorrectly identified) or entropy (measures the information contained by each attribute, thus we estimate the reduction in entropy due to sorting on the attribute)\n",
    "- max depth is the maximum amount of steps the tree should do\n",
    "- max leaf nodes maximum number of nodes\n",
    "- min sample split a limit to stop further splitting, useful to avoid overfitting\n"
   ]
  },
  {
   "cell_type": "code",
   "execution_count": null,
   "id": "cc1053cf",
   "metadata": {},
   "outputs": [],
   "source": [
    "# define the parameters grid\n",
    "param_grid = {'max_depth': np.arange(3, 10),\n",
    "             'criterion' : ['gini','entropy'],\n",
    "             'max_leaf_nodes': [5,10,20,100],\n",
    "             'min_samples_split': [2, 5, 10, 20]}\n",
    "\n",
    "# create the grid\n",
    "grid_tree = GridSearchCV(DecisionTreeClassifier(), param_grid, cv = 5, scoring= 'accuracy')\n",
    "# the cv option will be clear in a few cells\n",
    "\n",
    "\n",
    "#training\n",
    "grid_tree.fit(X_train, y_train)\n",
    "#let's see the best estimator\n",
    "print(grid_tree.best_estimator_)\n",
    "#with its score\n",
    "print(np.abs(grid_tree.best_score_))"
   ]
  },
  {
   "cell_type": "code",
   "execution_count": null,
   "id": "1e19826a",
   "metadata": {},
   "outputs": [],
   "source": []
  },
  {
   "cell_type": "code",
   "execution_count": null,
   "id": "7ecdd677",
   "metadata": {},
   "outputs": [],
   "source": []
  },
  {
   "cell_type": "code",
   "execution_count": null,
   "id": "34f9e4f5",
   "metadata": {},
   "outputs": [],
   "source": []
  },
  {
   "cell_type": "code",
   "execution_count": null,
   "id": "1827289f",
   "metadata": {},
   "outputs": [],
   "source": []
  },
  {
   "cell_type": "code",
   "execution_count": null,
   "id": "ddf072a2",
   "metadata": {},
   "outputs": [],
   "source": []
  },
  {
   "cell_type": "code",
   "execution_count": 139,
   "id": "6b7abd02",
   "metadata": {},
   "outputs": [],
   "source": [
    "param_grid = {'max_depth': [20,30,50,100], \n",
    "              'min_samples_split':[0.1,0.2,0.4]}"
   ]
  },
  {
   "cell_type": "code",
   "execution_count": 140,
   "id": "ddc2815a",
   "metadata": {},
   "outputs": [],
   "source": []
  },
  {
   "cell_type": "code",
   "execution_count": 141,
   "id": "3b34028b",
   "metadata": {},
   "outputs": [],
   "source": [
    "X_train, X_test, y_train, y_test = train_test_split(X, y, \n",
    "                                                    test_size=0.33, \n",
    "                                                    random_state=42, \n",
    "                                                    stratify = y)"
   ]
  },
  {
   "cell_type": "code",
   "execution_count": 142,
   "id": "14cce719",
   "metadata": {},
   "outputs": [
    {
     "data": {
      "text/plain": [
       "(20100, 9900)"
      ]
     },
     "execution_count": 142,
     "metadata": {},
     "output_type": "execute_result"
    }
   ],
   "source": [
    "len(X_train), len(X_test)"
   ]
  },
  {
   "cell_type": "code",
   "execution_count": 143,
   "id": "5555cba2",
   "metadata": {},
   "outputs": [
    {
     "name": "stdout",
     "output_type": "stream",
     "text": [
      "Fitting 3 folds for each of 12 candidates, totalling 36 fits\n"
     ]
    },
    {
     "data": {
      "text/html": [
       "<style>#sk-container-id-3 {color: black;}#sk-container-id-3 pre{padding: 0;}#sk-container-id-3 div.sk-toggleable {background-color: white;}#sk-container-id-3 label.sk-toggleable__label {cursor: pointer;display: block;width: 100%;margin-bottom: 0;padding: 0.3em;box-sizing: border-box;text-align: center;}#sk-container-id-3 label.sk-toggleable__label-arrow:before {content: \"▸\";float: left;margin-right: 0.25em;color: #696969;}#sk-container-id-3 label.sk-toggleable__label-arrow:hover:before {color: black;}#sk-container-id-3 div.sk-estimator:hover label.sk-toggleable__label-arrow:before {color: black;}#sk-container-id-3 div.sk-toggleable__content {max-height: 0;max-width: 0;overflow: hidden;text-align: left;background-color: #f0f8ff;}#sk-container-id-3 div.sk-toggleable__content pre {margin: 0.2em;color: black;border-radius: 0.25em;background-color: #f0f8ff;}#sk-container-id-3 input.sk-toggleable__control:checked~div.sk-toggleable__content {max-height: 200px;max-width: 100%;overflow: auto;}#sk-container-id-3 input.sk-toggleable__control:checked~label.sk-toggleable__label-arrow:before {content: \"▾\";}#sk-container-id-3 div.sk-estimator input.sk-toggleable__control:checked~label.sk-toggleable__label {background-color: #d4ebff;}#sk-container-id-3 div.sk-label input.sk-toggleable__control:checked~label.sk-toggleable__label {background-color: #d4ebff;}#sk-container-id-3 input.sk-hidden--visually {border: 0;clip: rect(1px 1px 1px 1px);clip: rect(1px, 1px, 1px, 1px);height: 1px;margin: -1px;overflow: hidden;padding: 0;position: absolute;width: 1px;}#sk-container-id-3 div.sk-estimator {font-family: monospace;background-color: #f0f8ff;border: 1px dotted black;border-radius: 0.25em;box-sizing: border-box;margin-bottom: 0.5em;}#sk-container-id-3 div.sk-estimator:hover {background-color: #d4ebff;}#sk-container-id-3 div.sk-parallel-item::after {content: \"\";width: 100%;border-bottom: 1px solid gray;flex-grow: 1;}#sk-container-id-3 div.sk-label:hover label.sk-toggleable__label {background-color: #d4ebff;}#sk-container-id-3 div.sk-serial::before {content: \"\";position: absolute;border-left: 1px solid gray;box-sizing: border-box;top: 0;bottom: 0;left: 50%;z-index: 0;}#sk-container-id-3 div.sk-serial {display: flex;flex-direction: column;align-items: center;background-color: white;padding-right: 0.2em;padding-left: 0.2em;position: relative;}#sk-container-id-3 div.sk-item {position: relative;z-index: 1;}#sk-container-id-3 div.sk-parallel {display: flex;align-items: stretch;justify-content: center;background-color: white;position: relative;}#sk-container-id-3 div.sk-item::before, #sk-container-id-3 div.sk-parallel-item::before {content: \"\";position: absolute;border-left: 1px solid gray;box-sizing: border-box;top: 0;bottom: 0;left: 50%;z-index: -1;}#sk-container-id-3 div.sk-parallel-item {display: flex;flex-direction: column;z-index: 1;position: relative;background-color: white;}#sk-container-id-3 div.sk-parallel-item:first-child::after {align-self: flex-end;width: 50%;}#sk-container-id-3 div.sk-parallel-item:last-child::after {align-self: flex-start;width: 50%;}#sk-container-id-3 div.sk-parallel-item:only-child::after {width: 0;}#sk-container-id-3 div.sk-dashed-wrapped {border: 1px dashed gray;margin: 0 0.4em 0.5em 0.4em;box-sizing: border-box;padding-bottom: 0.4em;background-color: white;}#sk-container-id-3 div.sk-label label {font-family: monospace;font-weight: bold;display: inline-block;line-height: 1.2em;}#sk-container-id-3 div.sk-label-container {text-align: center;}#sk-container-id-3 div.sk-container {/* jupyter's `normalize.less` sets `[hidden] { display: none; }` but bootstrap.min.css set `[hidden] { display: none !important; }` so we also need the `!important` here to be able to override the default hidden behavior on the sphinx rendered scikit-learn.org. See: https://github.com/scikit-learn/scikit-learn/issues/21755 */display: inline-block !important;position: relative;}#sk-container-id-3 div.sk-text-repr-fallback {display: none;}</style><div id=\"sk-container-id-3\" class=\"sk-top-container\"><div class=\"sk-text-repr-fallback\"><pre>GridSearchCV(cv=3, estimator=DecisionTreeClassifier(), n_jobs=-1,\n",
       "             param_grid={&#x27;max_depth&#x27;: [20, 30, 50, 100],\n",
       "                         &#x27;min_samples_split&#x27;: [0.1, 0.2, 0.4]},\n",
       "             scoring=&#x27;accuracy&#x27;, verbose=3)</pre><b>In a Jupyter environment, please rerun this cell to show the HTML representation or trust the notebook. <br />On GitHub, the HTML representation is unable to render, please try loading this page with nbviewer.org.</b></div><div class=\"sk-container\" hidden><div class=\"sk-item sk-dashed-wrapped\"><div class=\"sk-label-container\"><div class=\"sk-label sk-toggleable\"><input class=\"sk-toggleable__control sk-hidden--visually\" id=\"sk-estimator-id-7\" type=\"checkbox\" ><label for=\"sk-estimator-id-7\" class=\"sk-toggleable__label sk-toggleable__label-arrow\">GridSearchCV</label><div class=\"sk-toggleable__content\"><pre>GridSearchCV(cv=3, estimator=DecisionTreeClassifier(), n_jobs=-1,\n",
       "             param_grid={&#x27;max_depth&#x27;: [20, 30, 50, 100],\n",
       "                         &#x27;min_samples_split&#x27;: [0.1, 0.2, 0.4]},\n",
       "             scoring=&#x27;accuracy&#x27;, verbose=3)</pre></div></div></div><div class=\"sk-parallel\"><div class=\"sk-parallel-item\"><div class=\"sk-item\"><div class=\"sk-label-container\"><div class=\"sk-label sk-toggleable\"><input class=\"sk-toggleable__control sk-hidden--visually\" id=\"sk-estimator-id-8\" type=\"checkbox\" ><label for=\"sk-estimator-id-8\" class=\"sk-toggleable__label sk-toggleable__label-arrow\">estimator: DecisionTreeClassifier</label><div class=\"sk-toggleable__content\"><pre>DecisionTreeClassifier()</pre></div></div></div><div class=\"sk-serial\"><div class=\"sk-item\"><div class=\"sk-estimator sk-toggleable\"><input class=\"sk-toggleable__control sk-hidden--visually\" id=\"sk-estimator-id-9\" type=\"checkbox\" ><label for=\"sk-estimator-id-9\" class=\"sk-toggleable__label sk-toggleable__label-arrow\">DecisionTreeClassifier</label><div class=\"sk-toggleable__content\"><pre>DecisionTreeClassifier()</pre></div></div></div></div></div></div></div></div></div></div>"
      ],
      "text/plain": [
       "GridSearchCV(cv=3, estimator=DecisionTreeClassifier(), n_jobs=-1,\n",
       "             param_grid={'max_depth': [20, 30, 50, 100],\n",
       "                         'min_samples_split': [0.1, 0.2, 0.4]},\n",
       "             scoring='accuracy', verbose=3)"
      ]
     },
     "execution_count": 143,
     "metadata": {},
     "output_type": "execute_result"
    }
   ],
   "source": [
    "grid_DTC_clf = GridSearchCV(DecisionTreeClassifier(), \n",
    "                            param_grid, \n",
    "                            scoring = 'accuracy', \n",
    "                            n_jobs = -1, \n",
    "                            verbose = 3, cv = 3)\n",
    "\n",
    "grid_DTC_clf.fit(X_train, y_train)"
   ]
  },
  {
   "cell_type": "code",
   "execution_count": 280,
   "id": "7b90dd48",
   "metadata": {},
   "outputs": [
    {
     "data": {
      "text/plain": [
       "0.819950248756219"
      ]
     },
     "execution_count": 280,
     "metadata": {},
     "output_type": "execute_result"
    }
   ],
   "source": [
    "grid_DTC_clf.best_score_"
   ]
  },
  {
   "cell_type": "code",
   "execution_count": 281,
   "id": "a1203050",
   "metadata": {},
   "outputs": [
    {
     "data": {
      "text/html": [
       "<style>#sk-container-id-8 {color: black;}#sk-container-id-8 pre{padding: 0;}#sk-container-id-8 div.sk-toggleable {background-color: white;}#sk-container-id-8 label.sk-toggleable__label {cursor: pointer;display: block;width: 100%;margin-bottom: 0;padding: 0.3em;box-sizing: border-box;text-align: center;}#sk-container-id-8 label.sk-toggleable__label-arrow:before {content: \"▸\";float: left;margin-right: 0.25em;color: #696969;}#sk-container-id-8 label.sk-toggleable__label-arrow:hover:before {color: black;}#sk-container-id-8 div.sk-estimator:hover label.sk-toggleable__label-arrow:before {color: black;}#sk-container-id-8 div.sk-toggleable__content {max-height: 0;max-width: 0;overflow: hidden;text-align: left;background-color: #f0f8ff;}#sk-container-id-8 div.sk-toggleable__content pre {margin: 0.2em;color: black;border-radius: 0.25em;background-color: #f0f8ff;}#sk-container-id-8 input.sk-toggleable__control:checked~div.sk-toggleable__content {max-height: 200px;max-width: 100%;overflow: auto;}#sk-container-id-8 input.sk-toggleable__control:checked~label.sk-toggleable__label-arrow:before {content: \"▾\";}#sk-container-id-8 div.sk-estimator input.sk-toggleable__control:checked~label.sk-toggleable__label {background-color: #d4ebff;}#sk-container-id-8 div.sk-label input.sk-toggleable__control:checked~label.sk-toggleable__label {background-color: #d4ebff;}#sk-container-id-8 input.sk-hidden--visually {border: 0;clip: rect(1px 1px 1px 1px);clip: rect(1px, 1px, 1px, 1px);height: 1px;margin: -1px;overflow: hidden;padding: 0;position: absolute;width: 1px;}#sk-container-id-8 div.sk-estimator {font-family: monospace;background-color: #f0f8ff;border: 1px dotted black;border-radius: 0.25em;box-sizing: border-box;margin-bottom: 0.5em;}#sk-container-id-8 div.sk-estimator:hover {background-color: #d4ebff;}#sk-container-id-8 div.sk-parallel-item::after {content: \"\";width: 100%;border-bottom: 1px solid gray;flex-grow: 1;}#sk-container-id-8 div.sk-label:hover label.sk-toggleable__label {background-color: #d4ebff;}#sk-container-id-8 div.sk-serial::before {content: \"\";position: absolute;border-left: 1px solid gray;box-sizing: border-box;top: 0;bottom: 0;left: 50%;z-index: 0;}#sk-container-id-8 div.sk-serial {display: flex;flex-direction: column;align-items: center;background-color: white;padding-right: 0.2em;padding-left: 0.2em;position: relative;}#sk-container-id-8 div.sk-item {position: relative;z-index: 1;}#sk-container-id-8 div.sk-parallel {display: flex;align-items: stretch;justify-content: center;background-color: white;position: relative;}#sk-container-id-8 div.sk-item::before, #sk-container-id-8 div.sk-parallel-item::before {content: \"\";position: absolute;border-left: 1px solid gray;box-sizing: border-box;top: 0;bottom: 0;left: 50%;z-index: -1;}#sk-container-id-8 div.sk-parallel-item {display: flex;flex-direction: column;z-index: 1;position: relative;background-color: white;}#sk-container-id-8 div.sk-parallel-item:first-child::after {align-self: flex-end;width: 50%;}#sk-container-id-8 div.sk-parallel-item:last-child::after {align-self: flex-start;width: 50%;}#sk-container-id-8 div.sk-parallel-item:only-child::after {width: 0;}#sk-container-id-8 div.sk-dashed-wrapped {border: 1px dashed gray;margin: 0 0.4em 0.5em 0.4em;box-sizing: border-box;padding-bottom: 0.4em;background-color: white;}#sk-container-id-8 div.sk-label label {font-family: monospace;font-weight: bold;display: inline-block;line-height: 1.2em;}#sk-container-id-8 div.sk-label-container {text-align: center;}#sk-container-id-8 div.sk-container {/* jupyter's `normalize.less` sets `[hidden] { display: none; }` but bootstrap.min.css set `[hidden] { display: none !important; }` so we also need the `!important` here to be able to override the default hidden behavior on the sphinx rendered scikit-learn.org. See: https://github.com/scikit-learn/scikit-learn/issues/21755 */display: inline-block !important;position: relative;}#sk-container-id-8 div.sk-text-repr-fallback {display: none;}</style><div id=\"sk-container-id-8\" class=\"sk-top-container\"><div class=\"sk-text-repr-fallback\"><pre>DecisionTreeClassifier(max_depth=20, min_samples_split=0.1)</pre><b>In a Jupyter environment, please rerun this cell to show the HTML representation or trust the notebook. <br />On GitHub, the HTML representation is unable to render, please try loading this page with nbviewer.org.</b></div><div class=\"sk-container\" hidden><div class=\"sk-item\"><div class=\"sk-estimator sk-toggleable\"><input class=\"sk-toggleable__control sk-hidden--visually\" id=\"sk-estimator-id-20\" type=\"checkbox\" checked><label for=\"sk-estimator-id-20\" class=\"sk-toggleable__label sk-toggleable__label-arrow\">DecisionTreeClassifier</label><div class=\"sk-toggleable__content\"><pre>DecisionTreeClassifier(max_depth=20, min_samples_split=0.1)</pre></div></div></div></div></div>"
      ],
      "text/plain": [
       "DecisionTreeClassifier(max_depth=20, min_samples_split=0.1)"
      ]
     },
     "execution_count": 281,
     "metadata": {},
     "output_type": "execute_result"
    }
   ],
   "source": [
    "grid_DTC_clf.best_estimator_"
   ]
  },
  {
   "cell_type": "code",
   "execution_count": 145,
   "id": "bee4ed45",
   "metadata": {},
   "outputs": [],
   "source": [
    "optimal_DTC_clf = grid_DTC_clf.best_estimator_"
   ]
  },
  {
   "cell_type": "code",
   "execution_count": 146,
   "id": "2519f5ab",
   "metadata": {},
   "outputs": [],
   "source": [
    "# Get the predicted classes\n",
    "train_class_preds = optimal_DTC_clf.predict(X_train)\n",
    "test_class_preds = optimal_DTC_clf.predict(X_test)"
   ]
  },
  {
   "cell_type": "code",
   "execution_count": 147,
   "id": "fb9f5699",
   "metadata": {},
   "outputs": [
    {
     "data": {
      "text/plain": [
       "{'max_depth': 20, 'min_samples_split': 0.1}"
      ]
     },
     "execution_count": 147,
     "metadata": {},
     "output_type": "execute_result"
    }
   ],
   "source": [
    "grid_DTC_clf.best_params_"
   ]
  },
  {
   "cell_type": "code",
   "execution_count": 148,
   "id": "edc6deb7",
   "metadata": {},
   "outputs": [
    {
     "name": "stdout",
     "output_type": "stream",
     "text": [
      "The accuracy on train data is  0.8201492537313433\n",
      "The accuracy on test data is  0.8178787878787879\n"
     ]
    }
   ],
   "source": [
    "# Get the accuracy scores\n",
    "train_accuracy_DTC = accuracy_score(train_class_preds,y_train)\n",
    "test_accuracy_DTC = accuracy_score(test_class_preds,y_test)\n",
    "\n",
    "print(\"The accuracy on train data is \", train_accuracy_DTC)\n",
    "print(\"The accuracy on test data is \", test_accuracy_DTC)"
   ]
  },
  {
   "cell_type": "code",
   "execution_count": 149,
   "id": "514a13b7",
   "metadata": {},
   "outputs": [],
   "source": [
    "from sklearn.ensemble import RandomForestClassifier"
   ]
  },
  {
   "cell_type": "code",
   "execution_count": 151,
   "id": "b234f6f5",
   "metadata": {},
   "outputs": [
    {
     "data": {
      "text/html": [
       "<style>#sk-container-id-4 {color: black;}#sk-container-id-4 pre{padding: 0;}#sk-container-id-4 div.sk-toggleable {background-color: white;}#sk-container-id-4 label.sk-toggleable__label {cursor: pointer;display: block;width: 100%;margin-bottom: 0;padding: 0.3em;box-sizing: border-box;text-align: center;}#sk-container-id-4 label.sk-toggleable__label-arrow:before {content: \"▸\";float: left;margin-right: 0.25em;color: #696969;}#sk-container-id-4 label.sk-toggleable__label-arrow:hover:before {color: black;}#sk-container-id-4 div.sk-estimator:hover label.sk-toggleable__label-arrow:before {color: black;}#sk-container-id-4 div.sk-toggleable__content {max-height: 0;max-width: 0;overflow: hidden;text-align: left;background-color: #f0f8ff;}#sk-container-id-4 div.sk-toggleable__content pre {margin: 0.2em;color: black;border-radius: 0.25em;background-color: #f0f8ff;}#sk-container-id-4 input.sk-toggleable__control:checked~div.sk-toggleable__content {max-height: 200px;max-width: 100%;overflow: auto;}#sk-container-id-4 input.sk-toggleable__control:checked~label.sk-toggleable__label-arrow:before {content: \"▾\";}#sk-container-id-4 div.sk-estimator input.sk-toggleable__control:checked~label.sk-toggleable__label {background-color: #d4ebff;}#sk-container-id-4 div.sk-label input.sk-toggleable__control:checked~label.sk-toggleable__label {background-color: #d4ebff;}#sk-container-id-4 input.sk-hidden--visually {border: 0;clip: rect(1px 1px 1px 1px);clip: rect(1px, 1px, 1px, 1px);height: 1px;margin: -1px;overflow: hidden;padding: 0;position: absolute;width: 1px;}#sk-container-id-4 div.sk-estimator {font-family: monospace;background-color: #f0f8ff;border: 1px dotted black;border-radius: 0.25em;box-sizing: border-box;margin-bottom: 0.5em;}#sk-container-id-4 div.sk-estimator:hover {background-color: #d4ebff;}#sk-container-id-4 div.sk-parallel-item::after {content: \"\";width: 100%;border-bottom: 1px solid gray;flex-grow: 1;}#sk-container-id-4 div.sk-label:hover label.sk-toggleable__label {background-color: #d4ebff;}#sk-container-id-4 div.sk-serial::before {content: \"\";position: absolute;border-left: 1px solid gray;box-sizing: border-box;top: 0;bottom: 0;left: 50%;z-index: 0;}#sk-container-id-4 div.sk-serial {display: flex;flex-direction: column;align-items: center;background-color: white;padding-right: 0.2em;padding-left: 0.2em;position: relative;}#sk-container-id-4 div.sk-item {position: relative;z-index: 1;}#sk-container-id-4 div.sk-parallel {display: flex;align-items: stretch;justify-content: center;background-color: white;position: relative;}#sk-container-id-4 div.sk-item::before, #sk-container-id-4 div.sk-parallel-item::before {content: \"\";position: absolute;border-left: 1px solid gray;box-sizing: border-box;top: 0;bottom: 0;left: 50%;z-index: -1;}#sk-container-id-4 div.sk-parallel-item {display: flex;flex-direction: column;z-index: 1;position: relative;background-color: white;}#sk-container-id-4 div.sk-parallel-item:first-child::after {align-self: flex-end;width: 50%;}#sk-container-id-4 div.sk-parallel-item:last-child::after {align-self: flex-start;width: 50%;}#sk-container-id-4 div.sk-parallel-item:only-child::after {width: 0;}#sk-container-id-4 div.sk-dashed-wrapped {border: 1px dashed gray;margin: 0 0.4em 0.5em 0.4em;box-sizing: border-box;padding-bottom: 0.4em;background-color: white;}#sk-container-id-4 div.sk-label label {font-family: monospace;font-weight: bold;display: inline-block;line-height: 1.2em;}#sk-container-id-4 div.sk-label-container {text-align: center;}#sk-container-id-4 div.sk-container {/* jupyter's `normalize.less` sets `[hidden] { display: none; }` but bootstrap.min.css set `[hidden] { display: none !important; }` so we also need the `!important` here to be able to override the default hidden behavior on the sphinx rendered scikit-learn.org. See: https://github.com/scikit-learn/scikit-learn/issues/21755 */display: inline-block !important;position: relative;}#sk-container-id-4 div.sk-text-repr-fallback {display: none;}</style><div id=\"sk-container-id-4\" class=\"sk-top-container\"><div class=\"sk-text-repr-fallback\"><pre>RandomForestClassifier()</pre><b>In a Jupyter environment, please rerun this cell to show the HTML representation or trust the notebook. <br />On GitHub, the HTML representation is unable to render, please try loading this page with nbviewer.org.</b></div><div class=\"sk-container\" hidden><div class=\"sk-item\"><div class=\"sk-estimator sk-toggleable\"><input class=\"sk-toggleable__control sk-hidden--visually\" id=\"sk-estimator-id-10\" type=\"checkbox\" checked><label for=\"sk-estimator-id-10\" class=\"sk-toggleable__label sk-toggleable__label-arrow\">RandomForestClassifier</label><div class=\"sk-toggleable__content\"><pre>RandomForestClassifier()</pre></div></div></div></div></div>"
      ],
      "text/plain": [
       "RandomForestClassifier()"
      ]
     },
     "execution_count": 151,
     "metadata": {},
     "output_type": "execute_result"
    }
   ],
   "source": [
    "rf_clf = RandomForestClassifier()\n",
    "rf_clf.fit(X_train,y_train)"
   ]
  },
  {
   "cell_type": "code",
   "execution_count": 152,
   "id": "1f00b49f",
   "metadata": {},
   "outputs": [],
   "source": [
    "# Get the predicted classes\n",
    "train_class_preds = rf_clf.predict(X_train)\n",
    "test_class_preds = rf_clf.predict(X_test)"
   ]
  },
  {
   "cell_type": "code",
   "execution_count": 153,
   "id": "aed24d1c",
   "metadata": {},
   "outputs": [
    {
     "name": "stdout",
     "output_type": "stream",
     "text": [
      "The accuracy on train data is  0.9994527363184079\n",
      "The accuracy on test data is  0.8147474747474748\n"
     ]
    }
   ],
   "source": [
    "# Get the accuracy scores\n",
    "train_accuracy_rf = accuracy_score(train_class_preds,y_train)\n",
    "test_accuracy_rf = accuracy_score(test_class_preds,y_test)\n",
    "\n",
    "print(\"The accuracy on train data is \", train_accuracy_rf)\n",
    "print(\"The accuracy on test data is \", test_accuracy_rf)"
   ]
  },
  {
   "cell_type": "code",
   "execution_count": 154,
   "id": "3fb16038",
   "metadata": {},
   "outputs": [
    {
     "name": "stdout",
     "output_type": "stream",
     "text": [
      "The accuracy on test data is  0.8147474747474748\n",
      "The precision on test data is  0.3698630136986301\n",
      "The recall on test data is  0.6408227848101266\n",
      "The f1 on test data is  0.4690214244354371\n",
      "The roc_score on test data is  0.7405132914323909\n"
     ]
    }
   ],
   "source": [
    "test_accuracy_rf = accuracy_score(test_class_preds,y_test)\n",
    "test_precision_score_rf = precision_score(test_class_preds,y_test)\n",
    "test_recall_score_rf = recall_score(test_class_preds,y_test)\n",
    "test_f1_score_rf = f1_score(test_class_preds,y_test)\n",
    "test_roc_score_rf = roc_auc_score(test_class_preds,y_test)\n",
    "\n",
    "print(\"The accuracy on test data is \", test_accuracy_rf)\n",
    "print(\"The precision on test data is \", test_precision_score_rf)\n",
    "print(\"The recall on test data is \", test_recall_score_rf)\n",
    "print(\"The f1 on test data is \", test_f1_score_rf)\n",
    "print(\"The roc_score on test data is \", test_roc_score_rf)"
   ]
  },
  {
   "cell_type": "code",
   "execution_count": 155,
   "id": "7c92a2e5",
   "metadata": {},
   "outputs": [],
   "source": [
    "param_grid = {'n_estimators': [100,150,200], 'max_depth': [10,20,30]}"
   ]
  },
  {
   "cell_type": "code",
   "execution_count": 156,
   "id": "a30aefe6",
   "metadata": {},
   "outputs": [
    {
     "name": "stdout",
     "output_type": "stream",
     "text": [
      "Fitting 3 folds for each of 9 candidates, totalling 27 fits\n"
     ]
    },
    {
     "data": {
      "text/html": [
       "<style>#sk-container-id-5 {color: black;}#sk-container-id-5 pre{padding: 0;}#sk-container-id-5 div.sk-toggleable {background-color: white;}#sk-container-id-5 label.sk-toggleable__label {cursor: pointer;display: block;width: 100%;margin-bottom: 0;padding: 0.3em;box-sizing: border-box;text-align: center;}#sk-container-id-5 label.sk-toggleable__label-arrow:before {content: \"▸\";float: left;margin-right: 0.25em;color: #696969;}#sk-container-id-5 label.sk-toggleable__label-arrow:hover:before {color: black;}#sk-container-id-5 div.sk-estimator:hover label.sk-toggleable__label-arrow:before {color: black;}#sk-container-id-5 div.sk-toggleable__content {max-height: 0;max-width: 0;overflow: hidden;text-align: left;background-color: #f0f8ff;}#sk-container-id-5 div.sk-toggleable__content pre {margin: 0.2em;color: black;border-radius: 0.25em;background-color: #f0f8ff;}#sk-container-id-5 input.sk-toggleable__control:checked~div.sk-toggleable__content {max-height: 200px;max-width: 100%;overflow: auto;}#sk-container-id-5 input.sk-toggleable__control:checked~label.sk-toggleable__label-arrow:before {content: \"▾\";}#sk-container-id-5 div.sk-estimator input.sk-toggleable__control:checked~label.sk-toggleable__label {background-color: #d4ebff;}#sk-container-id-5 div.sk-label input.sk-toggleable__control:checked~label.sk-toggleable__label {background-color: #d4ebff;}#sk-container-id-5 input.sk-hidden--visually {border: 0;clip: rect(1px 1px 1px 1px);clip: rect(1px, 1px, 1px, 1px);height: 1px;margin: -1px;overflow: hidden;padding: 0;position: absolute;width: 1px;}#sk-container-id-5 div.sk-estimator {font-family: monospace;background-color: #f0f8ff;border: 1px dotted black;border-radius: 0.25em;box-sizing: border-box;margin-bottom: 0.5em;}#sk-container-id-5 div.sk-estimator:hover {background-color: #d4ebff;}#sk-container-id-5 div.sk-parallel-item::after {content: \"\";width: 100%;border-bottom: 1px solid gray;flex-grow: 1;}#sk-container-id-5 div.sk-label:hover label.sk-toggleable__label {background-color: #d4ebff;}#sk-container-id-5 div.sk-serial::before {content: \"\";position: absolute;border-left: 1px solid gray;box-sizing: border-box;top: 0;bottom: 0;left: 50%;z-index: 0;}#sk-container-id-5 div.sk-serial {display: flex;flex-direction: column;align-items: center;background-color: white;padding-right: 0.2em;padding-left: 0.2em;position: relative;}#sk-container-id-5 div.sk-item {position: relative;z-index: 1;}#sk-container-id-5 div.sk-parallel {display: flex;align-items: stretch;justify-content: center;background-color: white;position: relative;}#sk-container-id-5 div.sk-item::before, #sk-container-id-5 div.sk-parallel-item::before {content: \"\";position: absolute;border-left: 1px solid gray;box-sizing: border-box;top: 0;bottom: 0;left: 50%;z-index: -1;}#sk-container-id-5 div.sk-parallel-item {display: flex;flex-direction: column;z-index: 1;position: relative;background-color: white;}#sk-container-id-5 div.sk-parallel-item:first-child::after {align-self: flex-end;width: 50%;}#sk-container-id-5 div.sk-parallel-item:last-child::after {align-self: flex-start;width: 50%;}#sk-container-id-5 div.sk-parallel-item:only-child::after {width: 0;}#sk-container-id-5 div.sk-dashed-wrapped {border: 1px dashed gray;margin: 0 0.4em 0.5em 0.4em;box-sizing: border-box;padding-bottom: 0.4em;background-color: white;}#sk-container-id-5 div.sk-label label {font-family: monospace;font-weight: bold;display: inline-block;line-height: 1.2em;}#sk-container-id-5 div.sk-label-container {text-align: center;}#sk-container-id-5 div.sk-container {/* jupyter's `normalize.less` sets `[hidden] { display: none; }` but bootstrap.min.css set `[hidden] { display: none !important; }` so we also need the `!important` here to be able to override the default hidden behavior on the sphinx rendered scikit-learn.org. See: https://github.com/scikit-learn/scikit-learn/issues/21755 */display: inline-block !important;position: relative;}#sk-container-id-5 div.sk-text-repr-fallback {display: none;}</style><div id=\"sk-container-id-5\" class=\"sk-top-container\"><div class=\"sk-text-repr-fallback\"><pre>GridSearchCV(cv=3, estimator=RandomForestClassifier(), n_jobs=-1,\n",
       "             param_grid={&#x27;max_depth&#x27;: [10, 20, 30],\n",
       "                         &#x27;n_estimators&#x27;: [100, 150, 200]},\n",
       "             scoring=&#x27;accuracy&#x27;, verbose=3)</pre><b>In a Jupyter environment, please rerun this cell to show the HTML representation or trust the notebook. <br />On GitHub, the HTML representation is unable to render, please try loading this page with nbviewer.org.</b></div><div class=\"sk-container\" hidden><div class=\"sk-item sk-dashed-wrapped\"><div class=\"sk-label-container\"><div class=\"sk-label sk-toggleable\"><input class=\"sk-toggleable__control sk-hidden--visually\" id=\"sk-estimator-id-11\" type=\"checkbox\" ><label for=\"sk-estimator-id-11\" class=\"sk-toggleable__label sk-toggleable__label-arrow\">GridSearchCV</label><div class=\"sk-toggleable__content\"><pre>GridSearchCV(cv=3, estimator=RandomForestClassifier(), n_jobs=-1,\n",
       "             param_grid={&#x27;max_depth&#x27;: [10, 20, 30],\n",
       "                         &#x27;n_estimators&#x27;: [100, 150, 200]},\n",
       "             scoring=&#x27;accuracy&#x27;, verbose=3)</pre></div></div></div><div class=\"sk-parallel\"><div class=\"sk-parallel-item\"><div class=\"sk-item\"><div class=\"sk-label-container\"><div class=\"sk-label sk-toggleable\"><input class=\"sk-toggleable__control sk-hidden--visually\" id=\"sk-estimator-id-12\" type=\"checkbox\" ><label for=\"sk-estimator-id-12\" class=\"sk-toggleable__label sk-toggleable__label-arrow\">estimator: RandomForestClassifier</label><div class=\"sk-toggleable__content\"><pre>RandomForestClassifier()</pre></div></div></div><div class=\"sk-serial\"><div class=\"sk-item\"><div class=\"sk-estimator sk-toggleable\"><input class=\"sk-toggleable__control sk-hidden--visually\" id=\"sk-estimator-id-13\" type=\"checkbox\" ><label for=\"sk-estimator-id-13\" class=\"sk-toggleable__label sk-toggleable__label-arrow\">RandomForestClassifier</label><div class=\"sk-toggleable__content\"><pre>RandomForestClassifier()</pre></div></div></div></div></div></div></div></div></div></div>"
      ],
      "text/plain": [
       "GridSearchCV(cv=3, estimator=RandomForestClassifier(), n_jobs=-1,\n",
       "             param_grid={'max_depth': [10, 20, 30],\n",
       "                         'n_estimators': [100, 150, 200]},\n",
       "             scoring='accuracy', verbose=3)"
      ]
     },
     "execution_count": 156,
     "metadata": {},
     "output_type": "execute_result"
    }
   ],
   "source": [
    "grid_rf_clf = GridSearchCV(RandomForestClassifier(), param_grid, scoring = 'accuracy', n_jobs = -1, verbose = 3, cv = 3)\n",
    "grid_rf_clf.fit(X_train, y_train)"
   ]
  },
  {
   "cell_type": "code",
   "execution_count": 157,
   "id": "85b416d5",
   "metadata": {},
   "outputs": [
    {
     "data": {
      "text/plain": [
       "0.8206467661691542"
      ]
     },
     "execution_count": 157,
     "metadata": {},
     "output_type": "execute_result"
    }
   ],
   "source": [
    "grid_rf_clf.best_score_"
   ]
  },
  {
   "cell_type": "code",
   "execution_count": 158,
   "id": "37b0b00a",
   "metadata": {},
   "outputs": [
    {
     "data": {
      "text/plain": [
       "{'max_depth': 10, 'n_estimators': 150}"
      ]
     },
     "execution_count": 158,
     "metadata": {},
     "output_type": "execute_result"
    }
   ],
   "source": [
    "grid_rf_clf.best_params_"
   ]
  },
  {
   "cell_type": "code",
   "execution_count": 159,
   "id": "a97e881d",
   "metadata": {},
   "outputs": [],
   "source": [
    "optimal_rf_clf = grid_rf_clf.best_estimator_"
   ]
  },
  {
   "cell_type": "code",
   "execution_count": 160,
   "id": "1445f3dc",
   "metadata": {},
   "outputs": [],
   "source": [
    "# Get the predicted classes\n",
    "train_class_preds = optimal_rf_clf.predict(X_train)\n",
    "test_class_preds = optimal_rf_clf.predict(X_test)"
   ]
  },
  {
   "cell_type": "code",
   "execution_count": 161,
   "id": "b90f388e",
   "metadata": {},
   "outputs": [
    {
     "name": "stdout",
     "output_type": "stream",
     "text": [
      "The accuracy on train data is  0.8625870646766169\n",
      "The accuracy on test data is  0.816060606060606\n"
     ]
    }
   ],
   "source": [
    "# Get the accuracy scores\n",
    "train_accuracy_rf = accuracy_score(train_class_preds,y_train)\n",
    "test_accuracy_rf = accuracy_score(test_class_preds,y_test)\n",
    "\n",
    "print(\"The accuracy on train data is \", train_accuracy_rf)\n",
    "print(\"The accuracy on test data is \", test_accuracy_rf)"
   ]
  },
  {
   "cell_type": "code",
   "execution_count": 162,
   "id": "f2adc276",
   "metadata": {},
   "outputs": [
    {
     "name": "stdout",
     "output_type": "stream",
     "text": [
      "The accuracy on test data is  0.816060606060606\n",
      "The precision on test data is  0.34885844748858447\n",
      "The recall on test data is  0.6591889559965487\n",
      "The f1 on test data is  0.45625559868617493\n",
      "The roc_score on test data is  0.7480248635376863\n"
     ]
    }
   ],
   "source": [
    "test_accuracy_rf = accuracy_score(test_class_preds,y_test)\n",
    "test_precision_score_rf = precision_score(test_class_preds,y_test)\n",
    "test_recall_score_rf = recall_score(test_class_preds,y_test)\n",
    "test_f1_score_rf = f1_score(test_class_preds,y_test)\n",
    "test_roc_score_rf = roc_auc_score(test_class_preds,y_test)\n",
    "\n",
    "print(\"The accuracy on test data is \", test_accuracy_rf)\n",
    "print(\"The precision on test data is \", test_precision_score_rf)\n",
    "print(\"The recall on test data is \", test_recall_score_rf)\n",
    "print(\"The f1 on test data is \", test_f1_score_rf)\n",
    "print(\"The roc_score on test data is \", test_roc_score_rf)"
   ]
  },
  {
   "cell_type": "code",
   "execution_count": 163,
   "id": "d6ba1420",
   "metadata": {},
   "outputs": [
    {
     "data": {
      "text/plain": [
       "26"
      ]
     },
     "execution_count": 163,
     "metadata": {},
     "output_type": "execute_result"
    }
   ],
   "source": [
    "len(optimal_rf_clf.feature_importances_)"
   ]
  },
  {
   "cell_type": "code",
   "execution_count": null,
   "id": "c72086d0",
   "metadata": {},
   "outputs": [],
   "source": []
  },
  {
   "cell_type": "code",
   "execution_count": null,
   "id": "5204954d",
   "metadata": {},
   "outputs": [],
   "source": []
  },
  {
   "cell_type": "code",
   "execution_count": null,
   "id": "aac4bb2e",
   "metadata": {},
   "outputs": [],
   "source": []
  },
  {
   "cell_type": "code",
   "execution_count": 67,
   "id": "7bdf29be",
   "metadata": {},
   "outputs": [],
   "source": [
    "# Drop the 'ID' column from X\n",
    "X = df.drop(columns=['ID', 'TARGET'])\n",
    "\n",
    "# Define the target variable\n",
    "y = df['TARGET']"
   ]
  },
  {
   "cell_type": "code",
   "execution_count": 56,
   "id": "6bea4db5",
   "metadata": {},
   "outputs": [],
   "source": [
    "from sklearn.model_selection import train_test_split\n",
    "train, test = train_test_split(df,\n",
    "                               test_size=0.2,\n",
    "                               random_state=42,\n",
    "                               shuffle=True)"
   ]
  },
  {
   "cell_type": "code",
   "execution_count": 57,
   "id": "fff4aa6d",
   "metadata": {},
   "outputs": [],
   "source": [
    "train_backup = train.copy()\n",
    "test_backup = test.copy()"
   ]
  },
  {
   "cell_type": "code",
   "execution_count": null,
   "id": "900a2a60",
   "metadata": {},
   "outputs": [],
   "source": [
    "# Baseline 22%/78%"
   ]
  },
  {
   "cell_type": "code",
   "execution_count": 164,
   "id": "2a52c9cf",
   "metadata": {},
   "outputs": [
    {
     "data": {
      "image/png": "[encoded data removed]",
      "text/plain": [
       "<Figure size 1700x600 with 1 Axes>"
      ]
     },
     "metadata": {},
     "output_type": "display_data"
    }
   ],
   "source": [
    "# Feature Importance\n",
    "feature_importances_rf = pd.DataFrame(optimal_rf_clf.feature_importances_,\n",
    "                                   index = columns,\n",
    "                                    columns=['importance_rf']).sort_values('importance_rf',\n",
    "                                                                        ascending=False)[:10]\n",
    "                                    \n",
    "plt.subplots(figsize=(17,6))\n",
    "plt.title(\"Feature importances\")\n",
    "plt.bar(feature_importances_rf.index, feature_importances_rf['importance_rf'],\n",
    "        color=\"g\",  align=\"center\")\n",
    "plt.xticks(feature_importances_rf.index, rotation = 85)\n",
    "#plt.xlim([-1, X.shape[1]])\n",
    "plt.show()"
   ]
  },
  {
   "cell_type": "code",
   "execution_count": 165,
   "id": "d0462d34",
   "metadata": {},
   "outputs": [],
   "source": [
    "# Get the predicted classes\n",
    "train_class_preds = optimal_rf_clf.predict(X_train)\n",
    "test_class_preds = optimal_rf_clf.predict(X_test)"
   ]
  },
  {
   "cell_type": "code",
   "execution_count": 166,
   "id": "d691d53a",
   "metadata": {},
   "outputs": [],
   "source": [
    "y_preds_proba_rf = optimal_rf_clf.predict_proba(X_test)[::,1]"
   ]
  },
  {
   "cell_type": "code",
   "execution_count": 167,
   "id": "074815a6",
   "metadata": {},
   "outputs": [],
   "source": [
    "import sklearn.metrics as metrics"
   ]
  },
  {
   "cell_type": "code",
   "execution_count": 168,
   "id": "4d2c881c",
   "metadata": {},
   "outputs": [
    {
     "data": {
      "image/png": "[encoded data removed]",
      "text/plain": [
       "<Figure size 640x480 with 1 Axes>"
      ]
     },
     "metadata": {},
     "output_type": "display_data"
    }
   ],
   "source": [
    "y_pred_proba = y_preds_proba_rf\n",
    "fpr, tpr, _ = metrics.roc_curve(y_test,  y_pred_proba)\n",
    "auc = metrics.roc_auc_score(y_test, y_pred_proba)\n",
    "plt.plot(fpr,tpr,label=\"data 1, auc=\"+str(auc))\n",
    "plt.legend(loc=4)\n",
    "plt.show()"
   ]
  },
  {
   "cell_type": "code",
   "execution_count": null,
   "id": "81601359",
   "metadata": {},
   "outputs": [],
   "source": []
  },
  {
   "cell_type": "code",
   "execution_count": 169,
   "id": "9fe8757c",
   "metadata": {},
   "outputs": [
    {
     "data": {
      "text/plain": [
       "<function sklearn.metrics._classification.recall_score(y_true, y_pred, *, labels=None, pos_label=1, average='binary', sample_weight=None, zero_division='warn')>"
      ]
     },
     "execution_count": 169,
     "metadata": {},
     "output_type": "execute_result"
    }
   ],
   "source": [
    "recall_score"
   ]
  },
  {
   "cell_type": "code",
   "execution_count": 175,
   "id": "d11225a7",
   "metadata": {},
   "outputs": [],
   "source": [
    "classifiers = ['Logistic Regression', 'Random Forest CLf',]\n",
    "train_accuracy = [train_accuracy_lr,  train_accuracy_rf, ]\n",
    "test_accuracy = [test_accuracy_lr,  test_accuracy_rf, ]\n",
    "precision_score = [test_precision_score_lr,  test_precision_score_rf, ]\n",
    "recall_score = [test_recall_score_lr,  test_recall_score_rf, ]\n",
    "f1_score = [test_f1_score_lr,  test_f1_score_rf, ]"
   ]
  },
  {
   "cell_type": "code",
   "execution_count": 176,
   "id": "64ba7db3",
   "metadata": {},
   "outputs": [
    {
     "data": {
      "text/html": [
       "<div>\n",
       "<style scoped>\n",
       "    .dataframe tbody tr th:only-of-type {\n",
       "        vertical-align: middle;\n",
       "    }\n",
       "\n",
       "    .dataframe tbody tr th {\n",
       "        vertical-align: top;\n",
       "    }\n",
       "\n",
       "    .dataframe thead th {\n",
       "        text-align: right;\n",
       "    }\n",
       "</style>\n",
       "<table border=\"1\" class=\"dataframe\">\n",
       "  <thead>\n",
       "    <tr style=\"text-align: right;\">\n",
       "      <th></th>\n",
       "      <th>Classifier</th>\n",
       "      <th>Train Accuracy</th>\n",
       "      <th>Test Accuracy</th>\n",
       "      <th>Precision Score</th>\n",
       "      <th>Recall Score</th>\n",
       "      <th>F1 Score</th>\n",
       "    </tr>\n",
       "  </thead>\n",
       "  <tbody>\n",
       "    <tr>\n",
       "      <th>0</th>\n",
       "      <td>Logistic Regression</td>\n",
       "      <td>0.820149</td>\n",
       "      <td>0.815253</td>\n",
       "      <td>0.325114</td>\n",
       "      <td>0.669802</td>\n",
       "      <td>0.437750</td>\n",
       "    </tr>\n",
       "    <tr>\n",
       "      <th>1</th>\n",
       "      <td>Random Forest CLf</td>\n",
       "      <td>0.862587</td>\n",
       "      <td>0.816061</td>\n",
       "      <td>0.348858</td>\n",
       "      <td>0.659189</td>\n",
       "      <td>0.456256</td>\n",
       "    </tr>\n",
       "  </tbody>\n",
       "</table>\n",
       "</div>"
      ],
      "text/plain": [
       "            Classifier  Train Accuracy  Test Accuracy  Precision Score  \\\n",
       "0  Logistic Regression        0.820149       0.815253         0.325114   \n",
       "1    Random Forest CLf        0.862587       0.816061         0.348858   \n",
       "\n",
       "   Recall Score  F1 Score  \n",
       "0      0.669802  0.437750  \n",
       "1      0.659189  0.456256  "
      ]
     },
     "execution_count": 176,
     "metadata": {},
     "output_type": "execute_result"
    },
    {
     "name": "stdout",
     "output_type": "stream",
     "text": [
      "[CV 3/3] END ................C=0.01, penalty=l2;, score=0.818 total time=   0.0s\n",
      "[CV 2/3] END ...................C=1, penalty=l2;, score=0.824 total time=   0.0s\n",
      "[CV 1/3] END ................C=0.01, penalty=l2;, score=0.816 total time=   0.0s\n",
      "[CV 3/3] END ...................C=1, penalty=l2;, score=0.820 total time=   0.0s\n",
      "[CV 3/3] END ..................C=1000, penalty=l1;, score=nan total time=   0.0s\n",
      "[CV 1/3] END max_depth=20, min_samples_split=0.1;, score=0.816 total time=   0.2s\n",
      "[CV 3/3] END max_depth=30, min_samples_split=0.4;, score=0.819 total time=   0.1s\n",
      "[CV 1/3] END max_depth=50, min_samples_split=0.2;, score=0.816 total time=   0.1s\n",
      "[CV 2/3] END ....max_depth=10, n_estimators=100;, score=0.827 total time=   2.7s\n",
      "[CV 3/3] END ....max_depth=20, n_estimators=150;, score=0.817 total time=   5.9s\n",
      "[CV 2/3] END ................C=0.01, penalty=l2;, score=0.822 total time=   0.0s\n",
      "[CV 3/3] END ....................C=10, penalty=l1;, score=nan total time=   0.0s\n",
      "[CV 1/3] END ...................C=100, penalty=l1;, score=nan total time=   0.0s\n",
      "[CV 3/3] END ................C=1000, penalty=l2;, score=0.820 total time=   0.0s\n",
      "[CV 3/3] END ..................C=10, penalty=l2;, score=0.820 total time=   0.0s\n",
      "[CV 2/3] END max_depth=30, min_samples_split=0.1;, score=0.824 total time=   0.1s\n",
      "[CV 2/3] END max_depth=50, min_samples_split=0.2;, score=0.825 total time=   0.1s\n",
      "[CV 1/3] END ....max_depth=10, n_estimators=100;, score=0.815 total time=   2.7s\n",
      "[CV 1/3] END ....max_depth=20, n_estimators=150;, score=0.813 total time=   6.0s\n",
      "[CV 3/3] END ...............C=0.001, penalty=l2;, score=0.807 total time=   0.0s\n",
      "[CV 3/3] END .....................C=1, penalty=l1;, score=nan total time=   0.0s\n",
      "[CV 2/3] END ....................C=10, penalty=l1;, score=nan total time=   0.0s\n",
      "[CV 2/3] END ..................C=10, penalty=l2;, score=0.823 total time=   0.0s\n",
      "[CV 1/3] END ..................C=0.01, penalty=l1;, score=nan total time=   0.0s\n",
      "[CV 2/3] END ................C=1000, penalty=l2;, score=0.823 total time=   0.0s\n",
      "[CV 3/3] END max_depth=20, min_samples_split=0.2;, score=0.819 total time=   0.1s\n",
      "[CV 2/3] END max_depth=30, min_samples_split=0.2;, score=0.825 total time=   0.1s\n",
      "[CV 1/3] END max_depth=100, min_samples_split=0.1;, score=0.816 total time=   0.1s\n",
      "[CV 3/3] END ....max_depth=10, n_estimators=100;, score=0.818 total time=   2.7s\n",
      "[CV 2/3] END ....max_depth=20, n_estimators=150;, score=0.823 total time=   5.9s\n",
      "[CV 1/3] END ..................C=0.01, penalty=l1;, score=nan total time=   0.0s\n",
      "[CV 2/3] END .....................C=1, penalty=l1;, score=nan total time=   0.0s\n",
      "[CV 1/3] END ....................C=10, penalty=l1;, score=nan total time=   0.0s\n",
      "[CV 2/3] END ...................C=100, penalty=l1;, score=nan total time=   0.0s\n",
      "[CV 2/3] END .................C=100, penalty=l2;, score=0.823 total time=   0.1s\n",
      "[CV 1/3] END ................C=1000, penalty=l2;, score=0.817 total time=   0.0s\n",
      "[CV 2/3] END max_depth=20, min_samples_split=0.1;, score=0.824 total time=   0.1s\n",
      "[CV 1/3] END max_depth=30, min_samples_split=0.2;, score=0.816 total time=   0.1s\n",
      "[CV 2/3] END max_depth=50, min_samples_split=0.4;, score=0.825 total time=   0.1s\n",
      "[CV 1/3] END max_depth=100, min_samples_split=0.4;, score=0.816 total time=   0.1s\n",
      "[CV 3/3] END ....max_depth=10, n_estimators=200;, score=0.819 total time=   5.2s\n",
      "[CV 2/3] END ....max_depth=30, n_estimators=150;, score=0.824 total time=   6.1s\n",
      "[CV 3/3] END .................C=0.001, penalty=l1;, score=nan total time=   0.0s\n",
      "[CV 3/3] END ..................C=10, penalty=l2;, score=0.820 total time=   0.0s\n",
      "[CV 2/3] END .................C=0.001, penalty=l1;, score=nan total time=   0.0s\n",
      "[CV 2/3] END ...............C=0.001, penalty=l2;, score=0.813 total time=   0.0s\n",
      "[CV 3/3] END ...................C=0.1, penalty=l1;, score=nan total time=   0.0s\n",
      "[CV 3/3] END .................C=0.1, penalty=l2;, score=0.819 total time=   0.0s\n",
      "[CV 2/3] END ...................C=100, penalty=l1;, score=nan total time=   0.0s\n",
      "[CV 2/3] END ..................C=1000, penalty=l1;, score=nan total time=   0.0s\n",
      "[CV 2/3] END max_depth=20, min_samples_split=0.2;, score=0.825 total time=   0.1s\n",
      "[CV 1/3] END max_depth=50, min_samples_split=0.1;, score=0.816 total time=   0.2s\n",
      "[CV 1/3] END max_depth=100, min_samples_split=0.2;, score=0.816 total time=   0.1s\n",
      "[CV 2/3] END ....max_depth=10, n_estimators=200;, score=0.827 total time=   5.2s\n",
      "[CV 1/3] END ....max_depth=30, n_estimators=150;, score=0.810 total time=   6.1s\n",
      "[CV 1/3] END .................C=0.001, penalty=l1;, score=nan total time=   0.0s\n",
      "[CV 2/3] END ...................C=0.1, penalty=l1;, score=nan total time=   0.0s\n",
      "[CV 3/3] END .................C=0.1, penalty=l2;, score=0.819 total time=   0.0s\n",
      "[CV 1/3] END .................C=100, penalty=l2;, score=0.817 total time=   0.1s\n",
      "[CV 1/3] END ...................C=0.1, penalty=l1;, score=nan total time=   0.0s\n",
      "[CV 2/3] END .....................C=1, penalty=l1;, score=nan total time=   0.0s\n",
      "[CV 1/3] END ....................C=10, penalty=l1;, score=nan total time=   0.0s\n",
      "[CV 1/3] END ..................C=10, penalty=l2;, score=0.817 total time=   0.1s\n",
      "[CV 2/3] END max_depth=20, min_samples_split=0.4;, score=0.825 total time=   0.1s\n",
      "[CV 3/3] END max_depth=30, min_samples_split=0.2;, score=0.819 total time=   0.1s\n",
      "[CV 3/3] END max_depth=50, min_samples_split=0.4;, score=0.819 total time=   0.1s\n",
      "[CV 3/3] END max_depth=100, min_samples_split=0.4;, score=0.819 total time=   0.1s\n",
      "[CV 1/3] END ....max_depth=10, n_estimators=200;, score=0.813 total time=   5.3s\n",
      "[CV 3/3] END ....max_depth=30, n_estimators=150;, score=0.815 total time=   6.1s\n",
      "[CV 1/3] END ................C=0.01, penalty=l2;, score=0.816 total time=   0.0s\n",
      "[CV 3/3] END ...................C=100, penalty=l1;, score=nan total time=   0.0s\n",
      "[CV 3/3] END .................C=100, penalty=l2;, score=0.820 total time=   0.0s\n",
      "[CV 3/3] END .................C=0.001, penalty=l1;, score=nan total time=   0.0s\n",
      "[CV 2/3] END ..................C=0.01, penalty=l1;, score=nan total time=   0.0s\n",
      "[CV 3/3] END ................C=0.01, penalty=l2;, score=0.818 total time=   0.0s\n",
      "[CV 2/3] END ...................C=1, penalty=l2;, score=0.824 total time=   0.0s\n",
      "[CV 1/3] END ..................C=1000, penalty=l1;, score=nan total time=   0.0s\n",
      "[CV 3/3] END ................C=1000, penalty=l2;, score=0.820 total time=   0.0s\n",
      "[CV 1/3] END max_depth=30, min_samples_split=0.1;, score=0.816 total time=   0.1s\n",
      "[CV 1/3] END max_depth=50, min_samples_split=0.4;, score=0.816 total time=   0.1s\n",
      "[CV 3/3] END max_depth=100, min_samples_split=0.2;, score=0.819 total time=   0.1s\n",
      "[CV 1/3] END ....max_depth=10, n_estimators=150;, score=0.815 total time=   4.0s\n",
      "[CV 1/3] END ....max_depth=20, n_estimators=200;, score=0.810 total time=   7.7s\n",
      "[CV 3/3] END ..................C=0.01, penalty=l1;, score=nan total time=   0.0s\n",
      "[CV 2/3] END .................C=0.1, penalty=l2;, score=0.823 total time=   0.0s\n",
      "[CV 1/3] END ..................C=1000, penalty=l1;, score=nan total time=   0.0s\n",
      "[CV 1/3] END ................C=1000, penalty=l2;, score=0.817 total time=   0.0s\n",
      "[CV 3/3] END ..................C=0.01, penalty=l1;, score=nan total time=   0.0s\n",
      "[CV 2/3] END .................C=0.1, penalty=l2;, score=0.823 total time=   0.0s\n",
      "[CV 3/3] END ...................C=100, penalty=l1;, score=nan total time=   0.0s\n",
      "[CV 2/3] END .................C=100, penalty=l2;, score=0.823 total time=   0.0s\n",
      "[CV 1/3] END max_depth=20, min_samples_split=0.2;, score=0.816 total time=   0.1s\n",
      "[CV 3/3] END max_depth=30, min_samples_split=0.1;, score=0.819 total time=   0.2s\n",
      "[CV 2/3] END max_depth=100, min_samples_split=0.1;, score=0.824 total time=   0.1s\n",
      "[CV 2/3] END ....max_depth=10, n_estimators=150;, score=0.828 total time=   3.9s\n",
      "[CV 3/3] END ....max_depth=20, n_estimators=200;, score=0.816 total time=   7.7s\n",
      "[CV 2/3] END max_depth=100, min_samples_split=0.2;, score=0.825 total time=   0.1s\n",
      "[CV 3/3] END ....max_depth=10, n_estimators=150;, score=0.820 total time=   3.9s\n",
      "[CV 2/3] END ....max_depth=20, n_estimators=200;, score=0.824 total time=   7.8s\n",
      "[CV 2/3] END ...............C=0.001, penalty=l2;, score=0.813 total time=   0.0s\n",
      "[CV 1/3] END ...................C=1, penalty=l2;, score=0.817 total time=   0.0s\n",
      "[CV 2/3] END ..................C=1000, penalty=l1;, score=nan total time=   0.0s\n",
      "[CV 2/3] END ................C=1000, penalty=l2;, score=0.823 total time=   0.0s\n",
      "[CV 1/3] END ...............C=0.001, penalty=l2;, score=0.809 total time=   0.0s\n",
      "[CV 2/3] END ...................C=0.1, penalty=l1;, score=nan total time=   0.0s\n",
      "[CV 1/3] END .................C=0.1, penalty=l2;, score=0.817 total time=   0.0s\n",
      "[CV 3/3] END ....................C=10, penalty=l1;, score=nan total time=   0.0s\n",
      "[CV 1/3] END ...................C=100, penalty=l1;, score=nan total time=   0.0s\n",
      "[CV 1/3] END .................C=100, penalty=l2;, score=0.817 total time=   0.0s\n",
      "[CV 3/3] END max_depth=20, min_samples_split=0.4;, score=0.819 total time=   0.1s\n",
      "[CV 2/3] END max_depth=50, min_samples_split=0.1;, score=0.824 total time=   0.2s\n",
      "[CV 3/3] END max_depth=100, min_samples_split=0.1;, score=0.819 total time=   0.1s\n",
      "[CV 2/3] END ....max_depth=20, n_estimators=100;, score=0.821 total time=   3.9s\n",
      "[CV 1/3] END ....max_depth=30, n_estimators=100;, score=0.811 total time=   4.2s\n",
      "[CV 1/3] END ....max_depth=30, n_estimators=200;, score=0.808 total time=   6.7s\n",
      "[CV 2/3] END ..................C=0.01, penalty=l1;, score=nan total time=   0.0s\n",
      "[CV 3/3] END ...................C=0.1, penalty=l1;, score=nan total time=   0.0s\n",
      "[CV 1/3] END .....................C=1, penalty=l1;, score=nan total time=   0.0s\n",
      "[CV 3/3] END ...................C=1, penalty=l2;, score=0.820 total time=   0.0s\n",
      "[CV 3/3] END ..................C=1000, penalty=l1;, score=nan total time=   0.0s\n",
      "[CV 1/3] END .................C=0.001, penalty=l1;, score=nan total time=   0.0s\n",
      "[CV 3/3] END ...............C=0.001, penalty=l2;, score=0.807 total time=   0.0s\n",
      "[CV 2/3] END ................C=0.01, penalty=l2;, score=0.822 total time=   0.0s\n",
      "[CV 1/3] END .....................C=1, penalty=l1;, score=nan total time=   0.0s\n",
      "[CV 1/3] END ...................C=1, penalty=l2;, score=0.817 total time=   0.0s\n",
      "[CV 3/3] END .................C=100, penalty=l2;, score=0.820 total time=   0.0s\n",
      "[CV 3/3] END max_depth=20, min_samples_split=0.1;, score=0.819 total time=   0.2s\n",
      "[CV 2/3] END max_depth=30, min_samples_split=0.4;, score=0.825 total time=   0.1s\n",
      "[CV 3/3] END max_depth=50, min_samples_split=0.2;, score=0.819 total time=   0.1s\n",
      "[CV 2/3] END max_depth=100, min_samples_split=0.4;, score=0.825 total time=   0.1s\n",
      "[CV 3/3] END ....max_depth=20, n_estimators=100;, score=0.816 total time=   3.9s\n",
      "[CV 2/3] END ....max_depth=30, n_estimators=100;, score=0.821 total time=   4.3s\n",
      "[CV 2/3] END ....max_depth=30, n_estimators=200;, score=0.823 total time=   6.7s\n"
     ]
    },
    {
     "name": "stdout",
     "output_type": "stream",
     "text": [
      "[CV 2/3] END .................C=0.001, penalty=l1;, score=nan total time=   0.0s\n",
      "[CV 1/3] END ...................C=0.1, penalty=l1;, score=nan total time=   0.0s\n",
      "[CV 1/3] END .................C=0.1, penalty=l2;, score=0.817 total time=   0.0s\n",
      "[CV 3/3] END .....................C=1, penalty=l1;, score=nan total time=   0.0s\n",
      "[CV 2/3] END ....................C=10, penalty=l1;, score=nan total time=   0.0s\n",
      "[CV 2/3] END ..................C=10, penalty=l2;, score=0.823 total time=   0.1s\n",
      "[CV 1/3] END max_depth=20, min_samples_split=0.4;, score=0.816 total time=   0.1s\n",
      "[CV 1/3] END max_depth=30, min_samples_split=0.4;, score=0.816 total time=   0.1s\n",
      "[CV 3/3] END max_depth=50, min_samples_split=0.1;, score=0.819 total time=   0.1s\n",
      "[CV 1/3] END ....max_depth=20, n_estimators=100;, score=0.811 total time=   4.1s\n",
      "[CV 3/3] END ....max_depth=30, n_estimators=100;, score=0.816 total time=   4.2s\n",
      "[CV 3/3] END ....max_depth=30, n_estimators=200;, score=0.815 total time=   6.8s\n"
     ]
    }
   ],
   "source": [
    "pd.DataFrame({'Classifier':classifiers, 'Train Accuracy': train_accuracy, 'Test Accuracy': test_accuracy, 'Precision Score': precision_score, 'Recall Score': recall_score, 'F1 Score': f1_score })"
   ]
  },
  {
   "cell_type": "code",
   "execution_count": 178,
   "id": "03b206f4",
   "metadata": {},
   "outputs": [
    {
     "ename": "SyntaxError",
     "evalue": "invalid syntax (2108159827.py, line 15)",
     "output_type": "error",
     "traceback": [
      "\u001b[0;36m  Cell \u001b[0;32mIn[178], line 15\u001b[0;36m\u001b[0m\n\u001b[0;31m    result_table = result_table.({'classifiers':pair[0].__class__.__name__,\u001b[0m\n\u001b[0m                                ^\u001b[0m\n\u001b[0;31mSyntaxError\u001b[0m\u001b[0;31m:\u001b[0m invalid syntax\n"
     ]
    }
   ],
   "source": [
    "classifiers_proba = [(optimized_clf, y_preds_proba_lr), \n",
    "               (optimal_rf_clf, y_preds_proba_rf), \n",
    "               \n",
    "               ]\n",
    "\n",
    "# Define a result table as a DataFrame\n",
    "result_table = pd.DataFrame(columns=['classifiers', 'fpr','tpr','auc'])\n",
    "\n",
    "# Train the models and record the results\n",
    "for pair in classifiers_proba:\n",
    "    \n",
    "    fpr, tpr, _ = roc_curve(y_test,  pair[1])\n",
    "    auc = roc_auc_score(y_test, pair[1])\n",
    "    \n",
    "    result_table = result_table.({'classifiers':pair[0].__class__.__name__,\n",
    "                                        'fpr':fpr, \n",
    "                                        'tpr':tpr, \n",
    "                                        'auc':auc}, ignore_index=True)\n",
    "\n",
    "# Set name of the classifiers as index labels\n",
    "result_table.set_index('classifiers', inplace=True)"
   ]
  },
  {
   "cell_type": "code",
   "execution_count": null,
   "id": "860b731b",
   "metadata": {},
   "outputs": [],
   "source": []
  },
  {
   "cell_type": "code",
   "execution_count": null,
   "id": "646e2897",
   "metadata": {},
   "outputs": [],
   "source": []
  },
  {
   "cell_type": "code",
   "execution_count": null,
   "id": "076a0a5f",
   "metadata": {},
   "outputs": [],
   "source": []
  }
 ],
 "metadata": {
  "kernelspec": {
   "display_name": "Python 3 (ipykernel)",
   "language": "python",
   "name": "python3"
  },
  "language_info": {
   "codemirror_mode": {
    "name": "ipython",
    "version": 3
   },
   "file_extension": ".py",
   "mimetype": "text/x-python",
   "name": "python",
   "nbconvert_exporter": "python",
   "pygments_lexer": "ipython3",
   "version": "3.11.5"
  }
 },
 "nbformat": 4,
 "nbformat_minor": 5
}
